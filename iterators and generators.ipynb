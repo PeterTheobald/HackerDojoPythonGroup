{
 "cells": [
  {
   "cell_type": "markdown",
   "id": "292f4f24-199b-4c7f-bd11-11f8b14e5501",
   "metadata": {},
   "source": [
    "## Iterators\n",
    "\n",
    "What is an Iterator? It is any class/object that implements the right interface to allow Python to loop over its contents. Some examples of Iterators are `range()` , Lists, Tuples, Dictionaries, Files\n"
   ]
  },
  {
   "cell_type": "code",
   "execution_count": 5,
   "id": "4dded079-f9db-4b8c-95ec-ea74d0fc0c12",
   "metadata": {},
   "outputs": [
    {
     "name": "stdout",
     "output_type": "stream",
     "text": [
      "0\n",
      "1\n",
      "2\n",
      "3\n",
      "4\n",
      "5\n",
      "6\n",
      "7\n",
      "8\n",
      "9\n",
      "\n",
      "apple\n",
      "banana\n",
      "cherry\n",
      "date\n",
      "\n",
      "First\n",
      "Second\n",
      "Third\n"
     ]
    }
   ],
   "source": [
    "for i in range(10):\n",
    "    print(i)\n",
    "print()\n",
    "\n",
    "for s in ['apple', 'banana', 'cherry', 'date']:\n",
    "    print(s)\n",
    "print()\n",
    "\n",
    "for k in { 'First':1, 'Second':2, 'Third':3}:\n",
    "    print(k)"
   ]
  },
  {
   "cell_type": "markdown",
   "id": "26489583-00d7-4cad-b57b-b292bcae23cf",
   "metadata": {},
   "source": [
    "In Python an interface isn't explicitly declared, it is just a set of functions/methods that is needed to implement a behavior. So in Python to make an Iterator you don't declare a class with a keyword like Java's \"interface\" and you don't have to inherit from a master \"Interface\" base class.\n",
    "\n",
    "You just define the methods:  \n",
    "`__iter__()` Return the iterator object itself  \n",
    "`__next__()` Return the next value from the iterator  \n",
    "raise StopIteration exception if there are no more values to return\n"
   ]
  },
  {
   "cell_type": "code",
   "execution_count": 13,
   "id": "80c0b554-eefd-48f4-888a-7dd319b2182e",
   "metadata": {},
   "outputs": [],
   "source": [
    "class MyRange:\n",
    "    def __init__(self, start, end):\n",
    "        self.value = start\n",
    "        self.end = end\n",
    "\n",
    "    def __iter__(self):\n",
    "        return self\n",
    "\n",
    "    def __next__(self):\n",
    "        if self.value < self.end:\n",
    "            result = self.value\n",
    "            self.value += 1\n",
    "            return result\n",
    "        else:\n",
    "            raise StopIteration\n",
    "            "
   ]
  },
  {
   "cell_type": "code",
   "execution_count": 14,
   "id": "e2b38444-df0e-415d-b9b5-afb5dc3e3fbc",
   "metadata": {},
   "outputs": [
    {
     "name": "stdout",
     "output_type": "stream",
     "text": [
      "1\n",
      "2\n",
      "3\n",
      "4\n",
      "5\n",
      "6\n",
      "7\n",
      "8\n",
      "9\n"
     ]
    }
   ],
   "source": [
    "for v in MyRange(1,10):\n",
    "    print(v)\n",
    "    "
   ]
  },
  {
   "cell_type": "markdown",
   "id": "241a33cf-ebee-4850-9092-5f2bcdf7f87e",
   "metadata": {},
   "source": [
    "You can use this pattern for your own custom arbitrarily complex data structures to make it easy to loop over them. \n",
    "Lots of functions take Iterators, eg: set, sum sorted, enumerate etc."
   ]
  },
  {
   "cell_type": "code",
   "execution_count": 35,
   "id": "bba863e1-adb2-4cd0-b7ba-5852aed20552",
   "metadata": {},
   "outputs": [
    {
     "name": "stdout",
     "output_type": "stream",
     "text": [
      "{1, 2, 3, 4, 5}\n",
      "{'Third', 'Second', 'First'}\n",
      "\n",
      "15\n",
      "\n",
      "[1, 2, 3, 4, 5]\n",
      "['First', 'Second', 'Third']\n",
      "\n",
      "<enumerate object at 0x1220cf470>\n"
     ]
    }
   ],
   "source": [
    "print( set( [1,2,3,4,5]))\n",
    "print( set( {'First':1, 'Second':2, 'Third':3}))\n",
    "print()\n",
    "\n",
    "print( sum( [1,2,3,4,5]))\n",
    "print()\n",
    "\n",
    "print( sorted( [5,4,3,2,1]))\n",
    "print( sorted( {'First':1, 'Second':2, 'Third':3}))\n",
    "print()\n",
    "\n",
    "print( enumerate( ['apple', 'banana', 'cherry', 'date']))"
   ]
  },
  {
   "cell_type": "markdown",
   "id": "0082d848-d522-423e-9cca-bab0ff517b4d",
   "metadata": {},
   "source": [
    "Notice that enumerate doesn't return a value, it returns another Iterator function that can be used to iterate over the result. This is \"lazy evaluation\" which is more efficient. It doesn't create a large list of results ahead of time, only returning each result as you need it saving time (if you don't need all of the values) and space."
   ]
  },
  {
   "cell_type": "code",
   "execution_count": 1,
   "id": "79cc688d-ac15-459e-89d9-a95272b1e393",
   "metadata": {},
   "outputs": [
    {
     "name": "stdout",
     "output_type": "stream",
     "text": [
      "0 apple\n",
      "1 banana\n",
      "2 cherry\n",
      "3 date\n"
     ]
    }
   ],
   "source": [
    "for i,v in enumerate( ['apple', 'banana', 'cherry', 'date']):\n",
    "    print(i,v)"
   ]
  },
  {
   "cell_type": "code",
   "execution_count": 38,
   "id": "d73e41ff-abfb-476a-a8e4-484a7d63e24e",
   "metadata": {},
   "outputs": [
    {
     "name": "stdout",
     "output_type": "stream",
     "text": [
      "<enumerate object at 0x1220df4c0>\n"
     ]
    }
   ],
   "source": [
    "print( enumerate( MyRange(1,10)))"
   ]
  },
  {
   "cell_type": "code",
   "execution_count": 39,
   "id": "3f164cf3-b808-4d3a-b534-4f2cb057da41",
   "metadata": {},
   "outputs": [
    {
     "name": "stdout",
     "output_type": "stream",
     "text": [
      "[(0, 1), (1, 2), (2, 3), (3, 4), (4, 5), (5, 6), (6, 7), (7, 8), (8, 9)]\n"
     ]
    }
   ],
   "source": [
    "print( list(enumerate( MyRange(1,10))))"
   ]
  },
  {
   "cell_type": "markdown",
   "id": "f7ee79c0-de3b-44d3-b94f-ed8ee3e2aca8",
   "metadata": {},
   "source": [
    "Once an iterator reaches its end, it is used up. You have to create a new iterator to start over:"
   ]
  },
  {
   "cell_type": "code",
   "execution_count": 41,
   "id": "4b79b1e3-2a05-472c-888f-f36e7a2f8949",
   "metadata": {},
   "outputs": [
    {
     "name": "stdout",
     "output_type": "stream",
     "text": [
      "[1, 2, 3, 4, 5, 6, 7, 8, 9]\n",
      "[]\n",
      "\n",
      "[1, 2, 3, 4, 5, 6, 7, 8, 9]\n"
     ]
    }
   ],
   "source": [
    "mr = MyRange(1,10)\n",
    "print( list( mr))\n",
    "print( list( mr))\n",
    "print()\n",
    "m2 = MyRange(1,10)\n",
    "print( list(m2))"
   ]
  },
  {
   "cell_type": "markdown",
   "id": "7da747ef-d961-4ba2-948c-c5fa3d0a72c7",
   "metadata": {},
   "source": [
    "You can't ask an Iterator for its `len()` or jump to get a value at any index `mr[3]` because you haven't provided methods to do so, only `__iter__()` and `__next__()`. There are different interfaces for things you can take the length of and things you can index:"
   ]
  },
  {
   "cell_type": "code",
   "execution_count": 43,
   "id": "b3786cab-2ef7-46d4-b036-03d60f76b979",
   "metadata": {},
   "outputs": [
    {
     "ename": "TypeError",
     "evalue": "object of type 'MyRange' has no len()",
     "output_type": "error",
     "traceback": [
      "\u001b[0;31m---------------------------------------------------------------------------\u001b[0m",
      "\u001b[0;31mTypeError\u001b[0m                                 Traceback (most recent call last)",
      "Cell \u001b[0;32mIn[43], line 1\u001b[0m\n\u001b[0;32m----> 1\u001b[0m \u001b[38;5;28;43mlen\u001b[39;49m\u001b[43m(\u001b[49m\u001b[43m \u001b[49m\u001b[43mmr\u001b[49m\u001b[43m)\u001b[49m\n",
      "\u001b[0;31mTypeError\u001b[0m: object of type 'MyRange' has no len()"
     ]
    }
   ],
   "source": [
    "len( mr)"
   ]
  },
  {
   "cell_type": "code",
   "execution_count": 44,
   "id": "b176b2a0-0ed7-4e6d-a783-c8178454a728",
   "metadata": {},
   "outputs": [
    {
     "ename": "TypeError",
     "evalue": "'MyRange' object is not subscriptable",
     "output_type": "error",
     "traceback": [
      "\u001b[0;31m---------------------------------------------------------------------------\u001b[0m",
      "\u001b[0;31mTypeError\u001b[0m                                 Traceback (most recent call last)",
      "Cell \u001b[0;32mIn[44], line 1\u001b[0m\n\u001b[0;32m----> 1\u001b[0m \u001b[43mmr\u001b[49m\u001b[43m[\u001b[49m\u001b[38;5;241;43m3\u001b[39;49m\u001b[43m]\u001b[49m\n",
      "\u001b[0;31mTypeError\u001b[0m: 'MyRange' object is not subscriptable"
     ]
    }
   ],
   "source": [
    "mr[3]"
   ]
  },
  {
   "cell_type": "code",
   "execution_count": 9,
   "id": "8367c462-f700-49c0-90d1-4876b42b85bd",
   "metadata": {},
   "outputs": [],
   "source": [
    "# Define an Iterator that also can be called be len() and indexed:\n",
    "class MyRange2:\n",
    "    def __init__(self, start, end):\n",
    "        self.start = start\n",
    "        self.end = end\n",
    "        self.value = start\n",
    "\n",
    "    def __iter__(self):\n",
    "        return self\n",
    "\n",
    "    def __next__(self):\n",
    "        if self.value < self.end:\n",
    "            result = self.value\n",
    "            self.value += 1\n",
    "            return result\n",
    "        else:\n",
    "            raise StopIteration\n",
    "\n",
    "    def __len__(self):\n",
    "        return self.end - self.start\n",
    "\n",
    "    def __getitem__(self, i):\n",
    "        return self.start + i - 1"
   ]
  },
  {
   "cell_type": "code",
   "execution_count": 54,
   "id": "f8762aa3-4a84-409c-bfd9-b7fd1d34f7fd",
   "metadata": {},
   "outputs": [
    {
     "data": {
      "text/plain": [
       "9"
      ]
     },
     "execution_count": 54,
     "metadata": {},
     "output_type": "execute_result"
    }
   ],
   "source": [
    "len( MyRange2(1,10))"
   ]
  },
  {
   "cell_type": "code",
   "execution_count": 56,
   "id": "61df3236-07b6-4305-ba3b-8f3eff7782e0",
   "metadata": {},
   "outputs": [
    {
     "data": {
      "text/plain": [
       "3"
      ]
     },
     "execution_count": 56,
     "metadata": {},
     "output_type": "execute_result"
    }
   ],
   "source": [
    "MyRange2(1,10)[3]"
   ]
  },
  {
   "cell_type": "markdown",
   "id": "7b11c4de-6e4c-4594-9a1e-0545b56b351f",
   "metadata": {},
   "source": [
    "An Iterator can be used to efficiently return values using \"lazy evaluation\" meaning they do not calculate results until `__next__()` calls for them. An Iterator could return an infinite list of results, which could never fit in a list."
   ]
  },
  {
   "cell_type": "code",
   "execution_count": 3,
   "id": "bd33ee12-6de9-441c-a489-85c7650888f3",
   "metadata": {},
   "outputs": [],
   "source": [
    "class MyInfiniteRange:\n",
    "    def __init__(self, start):\n",
    "        self.value = start\n",
    "\n",
    "    def __iter__(self):\n",
    "        return self\n",
    "\n",
    "    def __next__(self):\n",
    "        result = self.value\n",
    "        self.value += 1\n",
    "        return result"
   ]
  },
  {
   "cell_type": "code",
   "execution_count": 5,
   "id": "e9bf1814-a703-4c1b-bd4a-ab6842411ffb",
   "metadata": {},
   "outputs": [
    {
     "name": "stdout",
     "output_type": "stream",
     "text": [
      "0 99\n",
      "1 100\n",
      "2 101\n",
      "3 102\n",
      "4 103\n",
      "5 104\n",
      "6 105\n",
      "7 106\n",
      "8 107\n",
      "9 108\n"
     ]
    }
   ],
   "source": [
    "my_infinite_range = MyInfiniteRange(99)\n",
    "for i,v in enumerate(my_infinite_range):\n",
    "    if i==10:\n",
    "        break\n",
    "    print( i,v)"
   ]
  },
  {
   "cell_type": "code",
   "execution_count": 57,
   "id": "2fd7b1a7-d37f-4f9c-a2d4-8a5577550761",
   "metadata": {},
   "outputs": [
    {
     "data": {
      "text/plain": [
       "<enumerate at 0x122177d80>"
      ]
     },
     "execution_count": 57,
     "metadata": {},
     "output_type": "execute_result"
    }
   ],
   "source": [
    "enumerate(MyRange2(1,10))"
   ]
  },
  {
   "cell_type": "code",
   "execution_count": 59,
   "id": "10fbaf70-1d64-4eef-b51e-ff2b6acf1183",
   "metadata": {},
   "outputs": [
    {
     "data": {
      "text/plain": [
       "[(0, 1), (1, 2), (2, 3), (3, 4), (4, 5), (5, 6), (6, 7), (7, 8), (8, 9)]"
      ]
     },
     "execution_count": 59,
     "metadata": {},
     "output_type": "execute_result"
    }
   ],
   "source": [
    "list(enumerate(MyRange2(1,10)))"
   ]
  },
  {
   "cell_type": "code",
   "execution_count": 12,
   "id": "6aaccf60-1313-4a27-94b7-36aa85d60e97",
   "metadata": {},
   "outputs": [
    {
     "data": {
      "text/plain": [
       "<enumerate at 0x1068679c0>"
      ]
     },
     "execution_count": 12,
     "metadata": {},
     "output_type": "execute_result"
    }
   ],
   "source": [
    "enumerate(MyRange2(1,10)).__iter__()"
   ]
  },
  {
   "cell_type": "code",
   "execution_count": 62,
   "id": "bd43d29a-78a5-490b-a8c9-9add02dbfc4a",
   "metadata": {},
   "outputs": [
    {
     "data": {
      "text/plain": [
       "(0, 1)"
      ]
     },
     "execution_count": 62,
     "metadata": {},
     "output_type": "execute_result"
    }
   ],
   "source": [
    "enumerate(MyRange2(1,10)).__next__()"
   ]
  },
  {
   "cell_type": "code",
   "execution_count": 64,
   "id": "26bae5a0-957d-4914-a91f-449d2d6e5f6c",
   "metadata": {},
   "outputs": [
    {
     "data": {
      "text/plain": [
       "['__class__',\n",
       " '__class_getitem__',\n",
       " '__delattr__',\n",
       " '__dir__',\n",
       " '__doc__',\n",
       " '__eq__',\n",
       " '__format__',\n",
       " '__ge__',\n",
       " '__getattribute__',\n",
       " '__getstate__',\n",
       " '__gt__',\n",
       " '__hash__',\n",
       " '__init__',\n",
       " '__init_subclass__',\n",
       " '__iter__',\n",
       " '__le__',\n",
       " '__lt__',\n",
       " '__ne__',\n",
       " '__new__',\n",
       " '__next__',\n",
       " '__reduce__',\n",
       " '__reduce_ex__',\n",
       " '__repr__',\n",
       " '__setattr__',\n",
       " '__sizeof__',\n",
       " '__str__',\n",
       " '__subclasshook__']"
      ]
     },
     "execution_count": 64,
     "metadata": {},
     "output_type": "execute_result"
    }
   ],
   "source": [
    "dir( enumerate(MyRange2(1,10)))"
   ]
  },
  {
   "cell_type": "markdown",
   "id": "c47c5a4f-6752-4e0e-897e-661747750771",
   "metadata": {},
   "source": [
    "There is a simpler syntax for defining Iterators called Generators. Instead of defining `__iter()__` and `__next()__` we can use the yield keyword to return a result and resume where we left off on the next call:"
   ]
  },
  {
   "cell_type": "code",
   "execution_count": 68,
   "id": "a5643273-fa7d-448e-b570-18a7b4ff4210",
   "metadata": {},
   "outputs": [],
   "source": [
    "def countdown(n):\n",
    "    while n > 0:\n",
    "        yield n\n",
    "        n -= 1"
   ]
  },
  {
   "cell_type": "code",
   "execution_count": 69,
   "id": "7bf2c760-22f6-4d6d-8c7c-2cf27d7641fb",
   "metadata": {},
   "outputs": [
    {
     "data": {
      "text/plain": [
       "<generator object countdown at 0x12207dcc0>"
      ]
     },
     "execution_count": 69,
     "metadata": {},
     "output_type": "execute_result"
    }
   ],
   "source": [
    "countdown(10)"
   ]
  },
  {
   "cell_type": "code",
   "execution_count": 70,
   "id": "d0cc0dfd-aa40-406a-8627-944a034c642b",
   "metadata": {},
   "outputs": [
    {
     "data": {
      "text/plain": [
       "[10, 9, 8, 7, 6, 5, 4, 3, 2, 1]"
      ]
     },
     "execution_count": 70,
     "metadata": {},
     "output_type": "execute_result"
    }
   ],
   "source": [
    "list(countdown(10))"
   ]
  },
  {
   "cell_type": "code",
   "execution_count": 71,
   "id": "81b963f8-c316-41e1-9d9b-9d3eaa39b88e",
   "metadata": {},
   "outputs": [
    {
     "name": "stdout",
     "output_type": "stream",
     "text": [
      "10\n",
      "9\n",
      "8\n",
      "7\n",
      "6\n",
      "5\n",
      "4\n",
      "3\n",
      "2\n",
      "1\n"
     ]
    }
   ],
   "source": [
    "for i in countdown(10):\n",
    "    print(i)"
   ]
  },
  {
   "cell_type": "code",
   "execution_count": 72,
   "id": "ed598e47-025e-4046-8fa9-0a1a7a603ba7",
   "metadata": {},
   "outputs": [
    {
     "data": {
      "text/plain": [
       "['__class__',\n",
       " '__del__',\n",
       " '__delattr__',\n",
       " '__dir__',\n",
       " '__doc__',\n",
       " '__eq__',\n",
       " '__format__',\n",
       " '__ge__',\n",
       " '__getattribute__',\n",
       " '__getstate__',\n",
       " '__gt__',\n",
       " '__hash__',\n",
       " '__init__',\n",
       " '__init_subclass__',\n",
       " '__iter__',\n",
       " '__le__',\n",
       " '__lt__',\n",
       " '__name__',\n",
       " '__ne__',\n",
       " '__new__',\n",
       " '__next__',\n",
       " '__qualname__',\n",
       " '__reduce__',\n",
       " '__reduce_ex__',\n",
       " '__repr__',\n",
       " '__setattr__',\n",
       " '__sizeof__',\n",
       " '__str__',\n",
       " '__subclasshook__',\n",
       " 'close',\n",
       " 'gi_code',\n",
       " 'gi_frame',\n",
       " 'gi_running',\n",
       " 'gi_suspended',\n",
       " 'gi_yieldfrom',\n",
       " 'send',\n",
       " 'throw']"
      ]
     },
     "execution_count": 72,
     "metadata": {},
     "output_type": "execute_result"
    }
   ],
   "source": [
    "dir(countdown(10))"
   ]
  },
  {
   "cell_type": "code",
   "execution_count": null,
   "id": "616a527b-11bf-4033-baca-9100155b5db3",
   "metadata": {},
   "outputs": [],
   "source": [
    "def read_large_file_inefficiently(filename):\n",
    "    with open(filename) as f:\n",
    "        lines = f.readlines()\n",
    "    return f\n",
    "\n",
    "def read_large_file_efficiently(filename):\n",
    "    with open(filename) as f:\n",
    "        for line in f:\n",
    "            yield line\n",
    "            "
   ]
  },
  {
   "cell_type": "code",
   "execution_count": 75,
   "id": "2cb997d0-5666-40d0-8fd9-6358f06d5879",
   "metadata": {},
   "outputs": [
    {
     "data": {
      "text/plain": [
       "[0, 1, 4, 9, 16, 25, 36, 49, 64, 81]"
      ]
     },
     "execution_count": 75,
     "metadata": {},
     "output_type": "execute_result"
    }
   ],
   "source": [
    "# list comprehension\n",
    "[x**2 for x in range(10)]"
   ]
  },
  {
   "cell_type": "code",
   "execution_count": 76,
   "id": "8e09d97f-a837-494f-9d5c-cc9d4a90a921",
   "metadata": {},
   "outputs": [
    {
     "data": {
      "text/plain": [
       "{0: 0, 1: 1, 2: 4, 3: 9, 4: 16, 5: 25, 6: 36, 7: 49, 8: 64, 9: 81}"
      ]
     },
     "execution_count": 76,
     "metadata": {},
     "output_type": "execute_result"
    }
   ],
   "source": [
    "# dict comprehension\n",
    "{ x: x**2 for x in range(10) }"
   ]
  },
  {
   "cell_type": "code",
   "execution_count": 77,
   "id": "31515dc0-4623-48df-ab05-a81518e13861",
   "metadata": {},
   "outputs": [
    {
     "data": {
      "text/plain": [
       "<generator object <genexpr> at 0x12200dff0>"
      ]
     },
     "execution_count": 77,
     "metadata": {},
     "output_type": "execute_result"
    }
   ],
   "source": [
    "# New: generator comprehension\n",
    "(x**2 for x in range(10))"
   ]
  },
  {
   "cell_type": "code",
   "execution_count": 78,
   "id": "a8af6765-99e2-4687-9a86-6d06294afb72",
   "metadata": {},
   "outputs": [
    {
     "data": {
      "text/plain": [
       "[0, 1, 4, 9, 16, 25, 36, 49, 64, 81]"
      ]
     },
     "execution_count": 78,
     "metadata": {},
     "output_type": "execute_result"
    }
   ],
   "source": [
    "list( (x**2 for x in range(10)))"
   ]
  },
  {
   "cell_type": "markdown",
   "id": "a36d1736-1403-4098-8652-4c7bd14226a1",
   "metadata": {},
   "source": [
    "Advanced: look up these:\n",
    "close() inside a generator\n",
    "yield from generator2()\n",
    "coroutines (async programming)\n"
   ]
  }
 ],
 "metadata": {
  "kernelspec": {
   "display_name": "Python 3 (ipykernel)",
   "language": "python",
   "name": "python3"
  },
  "language_info": {
   "codemirror_mode": {
    "name": "ipython",
    "version": 3
   },
   "file_extension": ".py",
   "mimetype": "text/x-python",
   "name": "python",
   "nbconvert_exporter": "python",
   "pygments_lexer": "ipython3",
   "version": "3.12.4"
  }
 },
 "nbformat": 4,
 "nbformat_minor": 5
}
