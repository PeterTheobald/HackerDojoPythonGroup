{
 "cells": [
  {
   "cell_type": "markdown",
   "id": "aed7b246-449e-4f83-87e3-2bcdda43ea5b",
   "metadata": {},
   "source": [
    "# HackerDojo Python Meetup\n",
    "# Organizing data and behaviors, Object Oriented Python\n",
    "\n",
    "    Grouping related DATA, using:\n",
    "1. tuple\n",
    "2. dict\n",
    "3. collections.namedtuple\n",
    "4. typing.NamedTuple\n",
    "  \n",
    "    Grouping related DATA and FUNCTIONS, using:\n",
    "6. dataclass\n",
    "7. class (regular object oriented class)\n",
    "8. also related but not covered: attrs, Pydantic\n",
    "\n",
    "Note: I'll be talking about the USUAL way of using these.\n",
    "Python is infinitely modifiable and any of these can be used\n",
    "in place of the others with a little work."
   ]
  },
  {
   "cell_type": "code",
   "execution_count": 1,
   "id": "a95b3f0d-b4f3-4d31-b0c6-87e817f1be88",
   "metadata": {},
   "outputs": [
    {
     "name": "stdout",
     "output_type": "stream",
     "text": [
      "using tuple:  woof\n"
     ]
    }
   ],
   "source": [
    "######### 1. tuple\n",
    "import typing\n",
    "\n",
    "my_t = ('dog', 'rover', 'woof')\n",
    "def speak1(t: tuple):\n",
    "\tprint('using tuple: ', t[2])\n",
    "speak1(my_t)\n",
    "\n",
    "# Note: This uses tuples. lists are really for arbitrary lists of same type items, not gathering related data."
   ]
  },
  {
   "cell_type": "code",
   "execution_count": 2,
   "id": "36ed5011-33ef-4d03-aeee-da88fb5def13",
   "metadata": {},
   "outputs": [
    {
     "data": {
      "text/plain": [
       "('dog', 'rover', 'woof')"
      ]
     },
     "execution_count": 2,
     "metadata": {},
     "output_type": "execute_result"
    }
   ],
   "source": [
    "# simple. easy. not self-documenting. doesn't catch errors if order or index is wrong.\n",
    "# have to remember which index is which field. can accidentally pass a different kind of list\n",
    "# or a list with missing or extra fields, or fields in the wrong order\n",
    "# prints ok:\n",
    "my_t\n"
   ]
  },
  {
   "cell_type": "code",
   "execution_count": 3,
   "id": "61fcb653-158e-4831-938e-654feeabbea9",
   "metadata": {},
   "outputs": [
    {
     "name": "stdout",
     "output_type": "stream",
     "text": [
      "Help on tuple object:\n",
      "\n",
      "class tuple(object)\n",
      " |  tuple(iterable=(), /)\n",
      " |\n",
      " |  Built-in immutable sequence.\n",
      " |\n",
      " |  If no argument is given, the constructor returns an empty tuple.\n",
      " |  If iterable is specified the tuple is initialized from iterable's items.\n",
      " |\n",
      " |  If the argument is a tuple, the return value is the same object.\n",
      " |\n",
      " |  Built-in subclasses:\n",
      " |      asyncgen_hooks\n",
      " |      UnraisableHookArgs\n",
      " |\n",
      " |  Methods defined here:\n",
      " |\n",
      " |  __add__(self, value, /)\n",
      " |      Return self+value.\n",
      " |\n",
      " |  __contains__(self, key, /)\n",
      " |      Return bool(key in self).\n",
      " |\n",
      " |  __eq__(self, value, /)\n",
      " |      Return self==value.\n",
      " |\n",
      " |  __ge__(self, value, /)\n",
      " |      Return self>=value.\n",
      " |\n",
      " |  __getattribute__(self, name, /)\n",
      " |      Return getattr(self, name).\n",
      " |\n",
      " |  __getitem__(self, key, /)\n",
      " |      Return self[key].\n",
      " |\n",
      " |  __getnewargs__(self, /)\n",
      " |\n",
      " |  __gt__(self, value, /)\n",
      " |      Return self>value.\n",
      " |\n",
      " |  __hash__(self, /)\n",
      " |      Return hash(self).\n",
      " |\n",
      " |  __iter__(self, /)\n",
      " |      Implement iter(self).\n",
      " |\n",
      " |  __le__(self, value, /)\n",
      " |      Return self<=value.\n",
      " |\n",
      " |  __len__(self, /)\n",
      " |      Return len(self).\n",
      " |\n",
      " |  __lt__(self, value, /)\n",
      " |      Return self<value.\n",
      " |\n",
      " |  __mul__(self, value, /)\n",
      " |      Return self*value.\n",
      " |\n",
      " |  __ne__(self, value, /)\n",
      " |      Return self!=value.\n",
      " |\n",
      " |  __repr__(self, /)\n",
      " |      Return repr(self).\n",
      " |\n",
      " |  __rmul__(self, value, /)\n",
      " |      Return value*self.\n",
      " |\n",
      " |  count(self, value, /)\n",
      " |      Return number of occurrences of value.\n",
      " |\n",
      " |  index(self, value, start=0, stop=9223372036854775807, /)\n",
      " |      Return first index of value.\n",
      " |\n",
      " |      Raises ValueError if the value is not present.\n",
      " |\n",
      " |  ----------------------------------------------------------------------\n",
      " |  Class methods defined here:\n",
      " |\n",
      " |  __class_getitem__(...)\n",
      " |      See PEP 585\n",
      " |\n",
      " |  ----------------------------------------------------------------------\n",
      " |  Static methods defined here:\n",
      " |\n",
      " |  __new__(*args, **kwargs)\n",
      " |      Create and return a new object.  See help(type) for accurate signature.\n",
      "\n"
     ]
    }
   ],
   "source": [
    "# \"help\" is generic and unhelpful\n",
    "help(my_t)\n"
   ]
  },
  {
   "cell_type": "code",
   "execution_count": 4,
   "id": "a9bb1b52-eecc-4495-8012-6af5499cf616",
   "metadata": {},
   "outputs": [
    {
     "name": "stdout",
     "output_type": "stream",
     "text": [
      "using dict:  woof\n"
     ]
    }
   ],
   "source": [
    "######### 2. dict\n",
    "\n",
    "my_d = {'type': 'dog', 'name': 'rover', 'sound': 'woof'}\n",
    "def speak2(d: dict):\n",
    "\tprint('using dict: ',d['sound'])\n",
    "speak2(my_d)\n"
   ]
  },
  {
   "cell_type": "code",
   "execution_count": 5,
   "id": "b1acda6a-4c9e-4093-be35-76721f6d7981",
   "metadata": {},
   "outputs": [
    {
     "data": {
      "text/plain": [
       "{'type': 'dog', 'name': 'rover', 'sound': 'woof'}"
      ]
     },
     "execution_count": 5,
     "metadata": {},
     "output_type": "execute_result"
    }
   ],
   "source": [
    "# better. fields are named. Can accidentally pass a dict missing a field\n",
    "# or with extra fields to your functions, or an entirely different kind of dict\n",
    "# prints nicely. help is still generic and unhelpful\n",
    "my_d\n"
   ]
  },
  {
   "cell_type": "code",
   "execution_count": 6,
   "id": "42ea4d53-4e06-45cd-b1b2-5e5e2da4493f",
   "metadata": {},
   "outputs": [
    {
     "name": "stdout",
     "output_type": "stream",
     "text": [
      "Help on dict object:\n",
      "\n",
      "class dict(object)\n",
      " |  dict() -> new empty dictionary\n",
      " |  dict(mapping) -> new dictionary initialized from a mapping object's\n",
      " |      (key, value) pairs\n",
      " |  dict(iterable) -> new dictionary initialized as if via:\n",
      " |      d = {}\n",
      " |      for k, v in iterable:\n",
      " |          d[k] = v\n",
      " |  dict(**kwargs) -> new dictionary initialized with the name=value pairs\n",
      " |      in the keyword argument list.  For example:  dict(one=1, two=2)\n",
      " |\n",
      " |  Built-in subclasses:\n",
      " |      StgDict\n",
      " |\n",
      " |  Methods defined here:\n",
      " |\n",
      " |  __contains__(self, key, /)\n",
      " |      True if the dictionary has the specified key, else False.\n",
      " |\n",
      " |  __delitem__(self, key, /)\n",
      " |      Delete self[key].\n",
      " |\n",
      " |  __eq__(self, value, /)\n",
      " |      Return self==value.\n",
      " |\n",
      " |  __ge__(self, value, /)\n",
      " |      Return self>=value.\n",
      " |\n",
      " |  __getattribute__(self, name, /)\n",
      " |      Return getattr(self, name).\n",
      " |\n",
      " |  __getitem__(self, key, /)\n",
      " |      Return self[key].\n",
      " |\n",
      " |  __gt__(self, value, /)\n",
      " |      Return self>value.\n",
      " |\n",
      " |  __init__(self, /, *args, **kwargs)\n",
      " |      Initialize self.  See help(type(self)) for accurate signature.\n",
      " |\n",
      " |  __ior__(self, value, /)\n",
      " |      Return self|=value.\n",
      " |\n",
      " |  __iter__(self, /)\n",
      " |      Implement iter(self).\n",
      " |\n",
      " |  __le__(self, value, /)\n",
      " |      Return self<=value.\n",
      " |\n",
      " |  __len__(self, /)\n",
      " |      Return len(self).\n",
      " |\n",
      " |  __lt__(self, value, /)\n",
      " |      Return self<value.\n",
      " |\n",
      " |  __ne__(self, value, /)\n",
      " |      Return self!=value.\n",
      " |\n",
      " |  __or__(self, value, /)\n",
      " |      Return self|value.\n",
      " |\n",
      " |  __repr__(self, /)\n",
      " |      Return repr(self).\n",
      " |\n",
      " |  __reversed__(self, /)\n",
      " |      Return a reverse iterator over the dict keys.\n",
      " |\n",
      " |  __ror__(self, value, /)\n",
      " |      Return value|self.\n",
      " |\n",
      " |  __setitem__(self, key, value, /)\n",
      " |      Set self[key] to value.\n",
      " |\n",
      " |  __sizeof__(...)\n",
      " |      D.__sizeof__() -> size of D in memory, in bytes\n",
      " |\n",
      " |  clear(...)\n",
      " |      D.clear() -> None.  Remove all items from D.\n",
      " |\n",
      " |  copy(...)\n",
      " |      D.copy() -> a shallow copy of D\n",
      " |\n",
      " |  get(self, key, default=None, /)\n",
      " |      Return the value for key if key is in the dictionary, else default.\n",
      " |\n",
      " |  items(...)\n",
      " |      D.items() -> a set-like object providing a view on D's items\n",
      " |\n",
      " |  keys(...)\n",
      " |      D.keys() -> a set-like object providing a view on D's keys\n",
      " |\n",
      " |  pop(...)\n",
      " |      D.pop(k[,d]) -> v, remove specified key and return the corresponding value.\n",
      " |\n",
      " |      If the key is not found, return the default if given; otherwise,\n",
      " |      raise a KeyError.\n",
      " |\n",
      " |  popitem(self, /)\n",
      " |      Remove and return a (key, value) pair as a 2-tuple.\n",
      " |\n",
      " |      Pairs are returned in LIFO (last-in, first-out) order.\n",
      " |      Raises KeyError if the dict is empty.\n",
      " |\n",
      " |  setdefault(self, key, default=None, /)\n",
      " |      Insert key with a value of default if key is not in the dictionary.\n",
      " |\n",
      " |      Return the value for key if key is in the dictionary, else default.\n",
      " |\n",
      " |  update(...)\n",
      " |      D.update([E, ]**F) -> None.  Update D from dict/iterable E and F.\n",
      " |      If E is present and has a .keys() method, then does:  for k in E: D[k] = E[k]\n",
      " |      If E is present and lacks a .keys() method, then does:  for k, v in E: D[k] = v\n",
      " |      In either case, this is followed by: for k in F:  D[k] = F[k]\n",
      " |\n",
      " |  values(...)\n",
      " |      D.values() -> an object providing a view on D's values\n",
      " |\n",
      " |  ----------------------------------------------------------------------\n",
      " |  Class methods defined here:\n",
      " |\n",
      " |  __class_getitem__(...)\n",
      " |      See PEP 585\n",
      " |\n",
      " |  fromkeys(iterable, value=None, /)\n",
      " |      Create a new dictionary with keys from iterable and values set to value.\n",
      " |\n",
      " |  ----------------------------------------------------------------------\n",
      " |  Static methods defined here:\n",
      " |\n",
      " |  __new__(*args, **kwargs)\n",
      " |      Create and return a new object.  See help(type) for accurate signature.\n",
      " |\n",
      " |  ----------------------------------------------------------------------\n",
      " |  Data and other attributes defined here:\n",
      " |\n",
      " |  __hash__ = None\n",
      "\n"
     ]
    }
   ],
   "source": [
    "help(my_d)\n"
   ]
  },
  {
   "cell_type": "code",
   "execution_count": 7,
   "id": "5b7b4c48-4c4b-4bd8-82ac-6d584192d5cd",
   "metadata": {},
   "outputs": [
    {
     "name": "stdout",
     "output_type": "stream",
     "text": [
      "Using namedtuple:  woof\n"
     ]
    }
   ],
   "source": [
    "######### 3. collections.namedtuple\n",
    "from collections import namedtuple\n",
    "\n",
    "Animal=namedtuple('Animal', ['type','name','sound'])\n",
    "rover1=Animal(type='dog',name='rover',sound='woof')\n",
    "def speak3(a: Animal):\n",
    "\tprint('Using namedtuple: ', a.sound)\n",
    "speak3(rover1)\n"
   ]
  },
  {
   "cell_type": "code",
   "execution_count": 8,
   "id": "aa57c194-96cb-459d-b19c-9500c747b64b",
   "metadata": {},
   "outputs": [
    {
     "data": {
      "text/plain": [
       "Animal(type='dog', name='rover', sound='woof')"
      ]
     },
     "execution_count": 8,
     "metadata": {},
     "output_type": "execute_result"
    }
   ],
   "source": [
    "# Nice! fields have names, the collection has a type.\n",
    "# This is perfect for functions that return a long list of unnamed data like CSV or SQLITE3\n",
    "# Lots of libraries take tuples but not custom classes\n",
    "# Can load an unnamed tuple into a namedtuple:\n",
    "rover2=Animal('dog','rover','woof')\n",
    "rover2\n"
   ]
  },
  {
   "cell_type": "code",
   "execution_count": 9,
   "id": "d0d661f2-9594-4d67-b483-0fff79bd7c5f",
   "metadata": {},
   "outputs": [
    {
     "data": {
      "text/plain": [
       "Animal(type='dog', name='rover', sound='woof')"
      ]
     },
     "execution_count": 9,
     "metadata": {},
     "output_type": "execute_result"
    }
   ],
   "source": [
    "# prints great with field names. \n",
    "rover1\n"
   ]
  },
  {
   "cell_type": "code",
   "execution_count": 10,
   "id": "56ddc648-7f08-4273-825e-8f2d6fe9ed09",
   "metadata": {},
   "outputs": [
    {
     "name": "stdout",
     "output_type": "stream",
     "text": [
      "Help on Animal in module __main__ object:\n",
      "\n",
      "class Animal(builtins.tuple)\n",
      " |  Animal(type, name, sound)\n",
      " |\n",
      " |  Animal(type, name, sound)\n",
      " |\n",
      " |  Method resolution order:\n",
      " |      Animal\n",
      " |      builtins.tuple\n",
      " |      builtins.object\n",
      " |\n",
      " |  Methods defined here:\n",
      " |\n",
      " |  __getnewargs__(self) from collections.Animal\n",
      " |      Return self as a plain tuple.  Used by copy and pickle.\n",
      " |\n",
      " |  __repr__(self) from collections.Animal\n",
      " |      Return a nicely formatted representation string\n",
      " |\n",
      " |  _asdict(self) from collections.Animal\n",
      " |      Return a new dict which maps field names to their values.\n",
      " |\n",
      " |  _replace(self, /, **kwds) from collections.Animal\n",
      " |      Return a new Animal object replacing specified fields with new values\n",
      " |\n",
      " |  ----------------------------------------------------------------------\n",
      " |  Class methods defined here:\n",
      " |\n",
      " |  _make(iterable) from collections.Animal\n",
      " |      Make a new Animal object from a sequence or iterable\n",
      " |\n",
      " |  ----------------------------------------------------------------------\n",
      " |  Static methods defined here:\n",
      " |\n",
      " |  __new__(_cls, type, name, sound) from namedtuple_Animal.Animal\n",
      " |      Create new instance of Animal(type, name, sound)\n",
      " |\n",
      " |  ----------------------------------------------------------------------\n",
      " |  Data descriptors defined here:\n",
      " |\n",
      " |  type\n",
      " |      Alias for field number 0\n",
      " |\n",
      " |  name\n",
      " |      Alias for field number 1\n",
      " |\n",
      " |  sound\n",
      " |      Alias for field number 2\n",
      " |\n",
      " |  ----------------------------------------------------------------------\n",
      " |  Data and other attributes defined here:\n",
      " |\n",
      " |  __match_args__ = ('type', 'name', 'sound')\n",
      " |\n",
      " |  _field_defaults = {}\n",
      " |\n",
      " |  _fields = ('type', 'name', 'sound')\n",
      " |\n",
      " |  ----------------------------------------------------------------------\n",
      " |  Methods inherited from builtins.tuple:\n",
      " |\n",
      " |  __add__(self, value, /)\n",
      " |      Return self+value.\n",
      " |\n",
      " |  __contains__(self, key, /)\n",
      " |      Return bool(key in self).\n",
      " |\n",
      " |  __eq__(self, value, /)\n",
      " |      Return self==value.\n",
      " |\n",
      " |  __ge__(self, value, /)\n",
      " |      Return self>=value.\n",
      " |\n",
      " |  __getattribute__(self, name, /)\n",
      " |      Return getattr(self, name).\n",
      " |\n",
      " |  __getitem__(self, key, /)\n",
      " |      Return self[key].\n",
      " |\n",
      " |  __gt__(self, value, /)\n",
      " |      Return self>value.\n",
      " |\n",
      " |  __hash__(self, /)\n",
      " |      Return hash(self).\n",
      " |\n",
      " |  __iter__(self, /)\n",
      " |      Implement iter(self).\n",
      " |\n",
      " |  __le__(self, value, /)\n",
      " |      Return self<=value.\n",
      " |\n",
      " |  __len__(self, /)\n",
      " |      Return len(self).\n",
      " |\n",
      " |  __lt__(self, value, /)\n",
      " |      Return self<value.\n",
      " |\n",
      " |  __mul__(self, value, /)\n",
      " |      Return self*value.\n",
      " |\n",
      " |  __ne__(self, value, /)\n",
      " |      Return self!=value.\n",
      " |\n",
      " |  __rmul__(self, value, /)\n",
      " |      Return value*self.\n",
      " |\n",
      " |  count(self, value, /)\n",
      " |      Return number of occurrences of value.\n",
      " |\n",
      " |  index(self, value, start=0, stop=9223372036854775807, /)\n",
      " |      Return first index of value.\n",
      " |\n",
      " |      Raises ValueError if the value is not present.\n",
      " |\n",
      " |  ----------------------------------------------------------------------\n",
      " |  Class methods inherited from builtins.tuple:\n",
      " |\n",
      " |  __class_getitem__(...)\n",
      " |      See PEP 585\n",
      "\n"
     ]
    }
   ],
   "source": [
    "# Help is great with field names:\n",
    "help(rover1)\n"
   ]
  },
  {
   "cell_type": "code",
   "execution_count": 11,
   "id": "f7a7e901-6299-4ae5-a86a-8978f6ce80cb",
   "metadata": {},
   "outputs": [
    {
     "name": "stdout",
     "output_type": "stream",
     "text": [
      "using NamedTuple:  woof\n"
     ]
    }
   ],
   "source": [
    "######### 4. typing.NamedTuple\n",
    "# better version of collections.namedtuple with type hinting on fields\n",
    "# use this instead of collections.namedtuple\n",
    "from typing import NamedTuple\n",
    "\n",
    "class Animal(NamedTuple):\n",
    "\t\"\"\"A datatype just for noisy animals\"\"\"\n",
    "\ttype: str\n",
    "\tname: str\n",
    "\tsound: str = 'animal-noise'\n",
    "\n",
    "my_a=Animal('dog', 'rover', 'woof')\n",
    "\n",
    "def speak4(a: Animal):\n",
    "\tprint('using NamedTuple: ', a.sound)\n",
    "\n",
    "speak4(my_a)\n"
   ]
  },
  {
   "cell_type": "code",
   "execution_count": 12,
   "id": "ca582406-6388-4114-8bbf-32f5762eb40c",
   "metadata": {},
   "outputs": [
    {
     "data": {
      "text/plain": [
       "Animal(type='dog', name='rover', sound='woof')"
      ]
     },
     "execution_count": 12,
     "metadata": {},
     "output_type": "execute_result"
    }
   ],
   "source": [
    "# Defaults! Docstring for help! Still nice printing!\n",
    "my_a\n"
   ]
  },
  {
   "cell_type": "code",
   "execution_count": 13,
   "id": "08b4b32c-eddf-429a-941a-c2b2e0e4d100",
   "metadata": {},
   "outputs": [
    {
     "data": {
      "text/plain": [
       "Animal(type='dog', name='rover', sound='animal-noise')"
      ]
     },
     "execution_count": 13,
     "metadata": {},
     "output_type": "execute_result"
    }
   ],
   "source": [
    "my_a2=Animal('dog', 'rover') # use default sound\n",
    "my_a2\n"
   ]
  },
  {
   "cell_type": "code",
   "execution_count": 14,
   "id": "b6ffacae-6a76-41aa-97c2-94e051dc849d",
   "metadata": {},
   "outputs": [
    {
     "name": "stdout",
     "output_type": "stream",
     "text": [
      "Help on Animal in module __main__ object:\n",
      "\n",
      "class Animal(builtins.tuple)\n",
      " |  Animal(type: str, name: str, sound: str = 'animal-noise')\n",
      " |\n",
      " |  A datatype just for noisy animals\n",
      " |\n",
      " |  Method resolution order:\n",
      " |      Animal\n",
      " |      builtins.tuple\n",
      " |      builtins.object\n",
      " |\n",
      " |  Methods defined here:\n",
      " |\n",
      " |  __getnewargs__(self) from collections.Animal\n",
      " |      Return self as a plain tuple.  Used by copy and pickle.\n",
      " |\n",
      " |  __repr__(self) from collections.Animal\n",
      " |      Return a nicely formatted representation string\n",
      " |\n",
      " |  _asdict(self) from collections.Animal\n",
      " |      Return a new dict which maps field names to their values.\n",
      " |\n",
      " |  _replace(self, /, **kwds) from collections.Animal\n",
      " |      Return a new Animal object replacing specified fields with new values\n",
      " |\n",
      " |  ----------------------------------------------------------------------\n",
      " |  Class methods defined here:\n",
      " |\n",
      " |  _make(iterable) from collections.Animal\n",
      " |      Make a new Animal object from a sequence or iterable\n",
      " |\n",
      " |  ----------------------------------------------------------------------\n",
      " |  Static methods defined here:\n",
      " |\n",
      " |  __new__(_cls, type: str, name: str, sound: str = 'animal-noise') from namedtuple_Animal.Animal\n",
      " |      Create new instance of Animal(type, name, sound)\n",
      " |\n",
      " |  ----------------------------------------------------------------------\n",
      " |  Data descriptors defined here:\n",
      " |\n",
      " |  type\n",
      " |      Alias for field number 0\n",
      " |\n",
      " |  name\n",
      " |      Alias for field number 1\n",
      " |\n",
      " |  sound\n",
      " |      Alias for field number 2\n",
      " |\n",
      " |  ----------------------------------------------------------------------\n",
      " |  Data and other attributes defined here:\n",
      " |\n",
      " |  __annotations__ = {'name': <class 'str'>, 'sound': <class 'str'>, 'typ...\n",
      " |\n",
      " |  __match_args__ = ('type', 'name', 'sound')\n",
      " |\n",
      " |  __orig_bases__ = (<function NamedTuple>,)\n",
      " |\n",
      " |  _field_defaults = {'sound': 'animal-noise'}\n",
      " |\n",
      " |  _fields = ('type', 'name', 'sound')\n",
      " |\n",
      " |  ----------------------------------------------------------------------\n",
      " |  Methods inherited from builtins.tuple:\n",
      " |\n",
      " |  __add__(self, value, /)\n",
      " |      Return self+value.\n",
      " |\n",
      " |  __contains__(self, key, /)\n",
      " |      Return bool(key in self).\n",
      " |\n",
      " |  __eq__(self, value, /)\n",
      " |      Return self==value.\n",
      " |\n",
      " |  __ge__(self, value, /)\n",
      " |      Return self>=value.\n",
      " |\n",
      " |  __getattribute__(self, name, /)\n",
      " |      Return getattr(self, name).\n",
      " |\n",
      " |  __getitem__(self, key, /)\n",
      " |      Return self[key].\n",
      " |\n",
      " |  __gt__(self, value, /)\n",
      " |      Return self>value.\n",
      " |\n",
      " |  __hash__(self, /)\n",
      " |      Return hash(self).\n",
      " |\n",
      " |  __iter__(self, /)\n",
      " |      Implement iter(self).\n",
      " |\n",
      " |  __le__(self, value, /)\n",
      " |      Return self<=value.\n",
      " |\n",
      " |  __len__(self, /)\n",
      " |      Return len(self).\n",
      " |\n",
      " |  __lt__(self, value, /)\n",
      " |      Return self<value.\n",
      " |\n",
      " |  __mul__(self, value, /)\n",
      " |      Return self*value.\n",
      " |\n",
      " |  __ne__(self, value, /)\n",
      " |      Return self!=value.\n",
      " |\n",
      " |  __rmul__(self, value, /)\n",
      " |      Return value*self.\n",
      " |\n",
      " |  count(self, value, /)\n",
      " |      Return number of occurrences of value.\n",
      " |\n",
      " |  index(self, value, start=0, stop=9223372036854775807, /)\n",
      " |      Return first index of value.\n",
      " |\n",
      " |      Raises ValueError if the value is not present.\n",
      " |\n",
      " |  ----------------------------------------------------------------------\n",
      " |  Class methods inherited from builtins.tuple:\n",
      " |\n",
      " |  __class_getitem__(...)\n",
      " |      See PEP 585\n",
      "\n"
     ]
    }
   ],
   "source": [
    "help(my_a)\n"
   ]
  },
  {
   "cell_type": "code",
   "execution_count": 15,
   "id": "1d5021fd-47c3-4698-944e-70ea9e142a9f",
   "metadata": {},
   "outputs": [
    {
     "ename": "AttributeError",
     "evalue": "can't set attribute",
     "output_type": "error",
     "traceback": [
      "\u001b[0;31m---------------------------------------------------------------------------\u001b[0m",
      "\u001b[0;31mAttributeError\u001b[0m                            Traceback (most recent call last)",
      "Cell \u001b[0;32mIn[15], line 3\u001b[0m\n\u001b[1;32m      1\u001b[0m \u001b[38;5;66;03m# both kinds of named tuples are still tuples. Faster and smaller than dataclass and class.\u001b[39;00m\n\u001b[1;32m      2\u001b[0m \u001b[38;5;66;03m# which are immutable and hashable and iterable and unpackable\u001b[39;00m\n\u001b[0;32m----> 3\u001b[0m \u001b[43mmy_a2\u001b[49m\u001b[38;5;241;43m.\u001b[39;49m\u001b[43mname\u001b[49m\u001b[38;5;241m=\u001b[39m\u001b[38;5;124m'\u001b[39m\u001b[38;5;124mpeter\u001b[39m\u001b[38;5;124m'\u001b[39m \u001b[38;5;66;03m# ERROR! Immutable\u001b[39;00m\n",
      "\u001b[0;31mAttributeError\u001b[0m: can't set attribute"
     ]
    }
   ],
   "source": [
    "# both kinds of named tuples are still tuples. Faster and smaller than dataclass and class.\n",
    "# which are immutable and hashable and iterable and unpackable\n",
    "my_a2.name='peter' # ERROR! Immutable\n"
   ]
  },
  {
   "cell_type": "code",
   "execution_count": 16,
   "id": "fb478216-a1b1-4637-b378-156da3b78223",
   "metadata": {},
   "outputs": [
    {
     "name": "stdout",
     "output_type": "stream",
     "text": [
      "dog\n",
      "rover\n",
      "animal-noise\n"
     ]
    }
   ],
   "source": [
    "for x in my_a2: # iterable\n",
    "    print(x)\n",
    "    "
   ]
  },
  {
   "cell_type": "code",
   "execution_count": 17,
   "id": "0c6c91a0-0949-4bac-b2d1-c09f04e3ee19",
   "metadata": {},
   "outputs": [
    {
     "data": {
      "text/plain": [
       "('dog', 'rover', 'animal-noise')"
      ]
     },
     "execution_count": 17,
     "metadata": {},
     "output_type": "execute_result"
    }
   ],
   "source": [
    "(type, name, sound) = my_a2 # unpackable\n",
    "(type, name, sound)\n"
   ]
  },
  {
   "cell_type": "code",
   "execution_count": null,
   "id": "1310f567-d673-4e23-9224-b38fad61536f",
   "metadata": {},
   "outputs": [],
   "source": [
    "# hashable can be used as the key in a dict.\n",
    "# immutable can be used as an argument to memoized function (LRU_CACHE)\n",
    "# Caution: do NOT try to subclass with these. Subclasses is broken in subtle ways.\n"
   ]
  },
  {
   "cell_type": "code",
   "execution_count": 18,
   "id": "67d09c0b-7d24-4a8a-aead-f803ec3cec80",
   "metadata": {},
   "outputs": [
    {
     "name": "stdout",
     "output_type": "stream",
     "text": [
      "woof\n"
     ]
    }
   ],
   "source": [
    "######### 5. dataclass\n",
    "# Grouping FUNCTIONS!\n",
    "\n",
    "from dataclasses import dataclass\n",
    "\n",
    "@dataclass\n",
    "class Animal:\n",
    "    \"\"\"A datatype just for noisy animals\"\"\"\n",
    "    type: str\n",
    "    name: str\n",
    "    sound: str = 'animal-noise'\n",
    "\n",
    "    def speak(self):\n",
    "        print(self.sound)\n",
    "\n",
    "# This is a CLASS without methods (functions), not a tuple! Mutable! Not hashable!\n",
    "# Can inherit from parent-classes and subclasses can inherit from these\n",
    "# Can define custom methods, but also get __repr__ and __init__ for free\n",
    "# type safety: a namedtuple can be compare to any tuple with the same number of items\n",
    "# dataclass can only be compared to the same type\n",
    "# Side note: there is also @dataclass(frozen=True)\n",
    "\n",
    "my_a=Animal('dog','rover','woof')\n",
    "# great printing, docstring for help.\n",
    "my_a.speak()\n"
   ]
  },
  {
   "cell_type": "code",
   "execution_count": 19,
   "id": "ffe67ebb-07e1-4490-96f9-fa8378127e92",
   "metadata": {},
   "outputs": [
    {
     "data": {
      "text/plain": [
       "Animal(type='dog', name='rover', sound='woof')"
      ]
     },
     "execution_count": 19,
     "metadata": {},
     "output_type": "execute_result"
    }
   ],
   "source": [
    "my_a\n"
   ]
  },
  {
   "cell_type": "code",
   "execution_count": 20,
   "id": "07c96039-cb3b-4be6-8a52-a991900f840f",
   "metadata": {},
   "outputs": [
    {
     "data": {
      "text/plain": [
       "Animal(type='dog', name='peter', sound='woof')"
      ]
     },
     "execution_count": 20,
     "metadata": {},
     "output_type": "execute_result"
    }
   ],
   "source": [
    "my_a.name='peter'\n",
    "my_a\n"
   ]
  },
  {
   "cell_type": "code",
   "execution_count": 22,
   "id": "e3c5ad2b-77af-468b-ba2c-bb915b9f9df2",
   "metadata": {},
   "outputs": [
    {
     "name": "stdout",
     "output_type": "stream",
     "text": [
      "Help on Animal in module __main__ object:\n",
      "\n",
      "class Animal(builtins.object)\n",
      " |  Animal(type: str, name: str, sound: str = 'animal-noise') -> None\n",
      " |\n",
      " |  A datatype just for noisy animals\n",
      " |\n",
      " |  Methods defined here:\n",
      " |\n",
      " |  __eq__(self, other)\n",
      " |      Return self==value.\n",
      " |\n",
      " |  __init__(self, type: str, name: str, sound: str = 'animal-noise') -> None\n",
      " |      Initialize self.  See help(type(self)) for accurate signature.\n",
      " |\n",
      " |  __repr__(self)\n",
      " |      Return repr(self).\n",
      " |\n",
      " |  speak(self)\n",
      " |\n",
      " |  ----------------------------------------------------------------------\n",
      " |  Data descriptors defined here:\n",
      " |\n",
      " |  __dict__\n",
      " |      dictionary for instance variables\n",
      " |\n",
      " |  __weakref__\n",
      " |      list of weak references to the object\n",
      " |\n",
      " |  ----------------------------------------------------------------------\n",
      " |  Data and other attributes defined here:\n",
      " |\n",
      " |  __annotations__ = {'name': <class 'str'>, 'sound': <class 'str'>, 'typ...\n",
      " |\n",
      " |  __dataclass_fields__ = {'name': Field(name='name',type=<class 'str'>,d...\n",
      " |\n",
      " |  __dataclass_params__ = _DataclassParams(init=True,repr=True,eq=True,or...\n",
      " |\n",
      " |  __hash__ = None\n",
      " |\n",
      " |  __match_args__ = ('type', 'name', 'sound')\n",
      " |\n",
      " |  sound = 'animal-noise'\n",
      "\n"
     ]
    }
   ],
   "source": [
    "help(my_a)"
   ]
  },
  {
   "cell_type": "markdown",
   "id": "57d4f2b1-8ad8-49f5-9405-d6c730cd558a",
   "metadata": {},
   "source": [
    "### Advanced: def __post_init__(self)\n",
    "### datavar: int = field( more complicated initialization)"
   ]
  },
  {
   "cell_type": "code",
   "execution_count": 24,
   "id": "ad3bf4c2-7980-48f7-9c00-ad1c64d176dd",
   "metadata": {},
   "outputs": [
    {
     "name": "stdout",
     "output_type": "stream",
     "text": [
      "woof\n"
     ]
    }
   ],
   "source": [
    "######### 6. class (regular object oriented class)\n",
    "\n",
    "class Animal:\n",
    "    \"\"\" base class for all noisy animals \"\"\"\n",
    "    def __init__(self, type: str, name: str, sound: str = 'animal-noise'):\n",
    "        self.type = type\n",
    "        self.name = name\n",
    "        self.sound = sound\n",
    "    def speak(self):\n",
    "        print(self.sound)\n",
    "    def __str__(self):\n",
    "        return f'Animal(type={self.type}, name={self.name}, sound={self.sound}) (THIS IS STR)'\n",
    "    def __repr__(self):\n",
    "        return f'Animal(type={self.type!r}, name={self.name!r}, sound={self.sound!r}) (THIS IS REPR)'\n",
    "\n",
    "class Dog(Animal):\n",
    "    \"\"\" class for noisy dogs \"\"\"\n",
    "    def __init__(self, name: str):\n",
    "        self.type='dog'\n",
    "        self.name=name\n",
    "        self.sound='woof'\n",
    "        \n",
    "rover=Dog('rover')\n",
    "rover.speak()\n"
   ]
  },
  {
   "cell_type": "code",
   "execution_count": 25,
   "id": "89a8fa27-131f-446a-9eea-2244b7ec7f8b",
   "metadata": {},
   "outputs": [
    {
     "data": {
      "text/plain": [
       "Animal(type='dog', name='rover', sound='woof') (THIS IS REPR)"
      ]
     },
     "execution_count": 25,
     "metadata": {},
     "output_type": "execute_result"
    }
   ],
   "source": [
    "rover # We had to define our own __repr__ to get good printing."
   ]
  },
  {
   "cell_type": "code",
   "execution_count": 26,
   "id": "caa57fa8-8575-40eb-8211-1734dd42a25d",
   "metadata": {},
   "outputs": [
    {
     "name": "stdout",
     "output_type": "stream",
     "text": [
      "Animal(type=dog, name=rover, sound=woof) (THIS IS STR)\n"
     ]
    }
   ],
   "source": [
    "print(rover) # and we had to define our own __str__ to get good convert to string"
   ]
  },
  {
   "cell_type": "code",
   "execution_count": 27,
   "id": "d31de715-7c20-4a1a-9f9d-6169959181b0",
   "metadata": {},
   "outputs": [
    {
     "name": "stdout",
     "output_type": "stream",
     "text": [
      "Help on Dog in module __main__ object:\n",
      "\n",
      "class Dog(Animal)\n",
      " |  Dog(name: str)\n",
      " |\n",
      " |  class for noisy dogs\n",
      " |\n",
      " |  Method resolution order:\n",
      " |      Dog\n",
      " |      Animal\n",
      " |      builtins.object\n",
      " |\n",
      " |  Methods defined here:\n",
      " |\n",
      " |  __init__(self, name: str)\n",
      " |      Initialize self.  See help(type(self)) for accurate signature.\n",
      " |\n",
      " |  ----------------------------------------------------------------------\n",
      " |  Methods inherited from Animal:\n",
      " |\n",
      " |  __repr__(self)\n",
      " |      Return repr(self).\n",
      " |\n",
      " |  __str__(self)\n",
      " |      Return str(self).\n",
      " |\n",
      " |  speak(self)\n",
      " |\n",
      " |  ----------------------------------------------------------------------\n",
      " |  Data descriptors inherited from Animal:\n",
      " |\n",
      " |  __dict__\n",
      " |      dictionary for instance variables\n",
      " |\n",
      " |  __weakref__\n",
      " |      list of weak references to the object\n",
      "\n"
     ]
    }
   ],
   "source": [
    "help(rover) # good help"
   ]
  },
  {
   "cell_type": "markdown",
   "id": "25a5b782-d764-4d73-98be-cbe0f0c67cdc",
   "metadata": {},
   "source": [
    "### FURTHER READING: field validation in attrs library and Pydantic library"
   ]
  },
  {
   "cell_type": "code",
   "execution_count": null,
   "id": "a821ee01-ec14-46d8-ae3e-f46a7ca024d4",
   "metadata": {},
   "outputs": [],
   "source": []
  }
 ],
 "metadata": {
  "kernelspec": {
   "display_name": "Python 3 (ipykernel)",
   "language": "python",
   "name": "python3"
  },
  "language_info": {
   "codemirror_mode": {
    "name": "ipython",
    "version": 3
   },
   "file_extension": ".py",
   "mimetype": "text/x-python",
   "name": "python",
   "nbconvert_exporter": "python",
   "pygments_lexer": "ipython3",
   "version": "3.12.5"
  }
 },
 "nbformat": 4,
 "nbformat_minor": 5
}
