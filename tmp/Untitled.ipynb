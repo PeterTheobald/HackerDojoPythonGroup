{
 "cells": [
  {
   "cell_type": "markdown",
   "id": "707b9c0c-68e1-4123-abd3-694d58eeb856",
   "metadata": {},
   "source": [
    "This is going to be an example of using Jupyter Notebooks for Python\n",
    "                                                          "
   ]
  },
  {
   "cell_type": "code",
   "execution_count": 1,
   "id": "15d55e1b-8e4b-4774-909e-ce992b8e858f",
   "metadata": {},
   "outputs": [
    {
     "name": "stdout",
     "output_type": "stream",
     "text": [
      "hello\n"
     ]
    }
   ],
   "source": [
    "print(\"hello\")                                           "
   ]
  },
  {
   "cell_type": "code",
   "execution_count": 2,
   "id": "3501467b-3940-4506-98ea-791170177e20",
   "metadata": {},
   "outputs": [
    {
     "name": "stdout",
     "output_type": "stream",
     "text": [
      "hello peter\n"
     ]
    }
   ],
   "source": [
    "x=\"peter\"\n",
    "print( f\"hello {x}\")"
   ]
  },
  {
   "cell_type": "code",
   "execution_count": 3,
   "id": "f59d481f-c56d-49ce-bc1f-703577265415",
   "metadata": {},
   "outputs": [
    {
     "name": "stdout",
     "output_type": "stream",
     "text": [
      "6\n"
     ]
    }
   ],
   "source": [
    "x = 5\n",
    "x = x +1\n",
    "print(x)"
   ]
  },
  {
   "cell_type": "code",
   "execution_count": 17,
   "id": "d7e4ec88-c011-4e28-8d0d-6d98d2427553",
   "metadata": {},
   "outputs": [
    {
     "name": "stdout",
     "output_type": "stream",
     "text": [
      "1 2\n",
      "2 2\n",
      "102 2\n",
      "102 -1\n"
     ]
    }
   ],
   "source": [
    "\n",
    "class point:\n",
    "    def __init__(self, x, y):\n",
    "        self._x = x\n",
    "        self._y = y\n",
    "    def move_right(self, how_far=1):\n",
    "        self._x = self._x + how_far\n",
    "\n",
    "p = point(1,2)\n",
    "print( p._x, p._y)\n",
    "p.move_right()\n",
    "print( p._x, p._y)\n",
    "p.move_right( 100)\n",
    "print( p._x, p._y)\n",
    "p2 = point( 0,0)\n",
    "p2.move_right(-1)\n",
    "print( p._x, p2._x)"
   ]
  },
  {
   "cell_type": "code",
   "execution_count": null,
   "id": "596cc19b-7120-432d-8a3b-a84455f828fa",
   "metadata": {},
   "outputs": [],
   "source": [
    "class point:\n",
    "    def __init__(self, x, y):\n",
    "        self._x = x\n",
    "        self._y = y\n",
    "    def move_right(self, velocity):\n",
    "        self._x = self._x + velocity\n"
   ]
  },
  {
   "cell_type": "code",
   "execution_count": 19,
   "id": "587f2bb7-639e-4aea-a748-581a66dfbcf8",
   "metadata": {},
   "outputs": [
    {
     "name": "stdout",
     "output_type": "stream",
     "text": [
      "we changed it to 2\n",
      "1\n"
     ]
    }
   ],
   "source": [
    "def change(x):\n",
    "    x=x+1\n",
    "    print(f\"we changed it to {x}\")\n",
    "n=1\n",
    "change(n)\n",
    "print(n)"
   ]
  },
  {
   "cell_type": "code",
   "execution_count": 23,
   "id": "a9f23591-6191-4c9e-b09f-5f2aef0125b1",
   "metadata": {},
   "outputs": [
    {
     "data": {
      "text/plain": [
       "[-99, 2, 3]"
      ]
     },
     "execution_count": 23,
     "metadata": {},
     "output_type": "execute_result"
    }
   ],
   "source": [
    "def change_list(l):\n",
    "    l=l.copy()\n",
    "    l[0] = -99\n",
    "    return l\n",
    "my_list = [1,2,3]\n",
    "new_l = change_list(my_list)\n",
    "new_l"
   ]
  }
 ],
 "metadata": {
  "kernelspec": {
   "display_name": "Python 3 (ipykernel)",
   "language": "python",
   "name": "python3"
  },
  "language_info": {
   "codemirror_mode": {
    "name": "ipython",
    "version": 3
   },
   "file_extension": ".py",
   "mimetype": "text/x-python",
   "name": "python",
   "nbconvert_exporter": "python",
   "pygments_lexer": "ipython3",
   "version": "3.12.7"
  }
 },
 "nbformat": 4,
 "nbformat_minor": 5
}
