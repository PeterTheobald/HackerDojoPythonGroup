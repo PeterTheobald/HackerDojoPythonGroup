{
 "cells": [
  {
   "cell_type": "markdown",
   "id": "6baee084-a5b5-4fcd-9e21-32c7928478fc",
   "metadata": {},
   "source": [
    "# Python Pattern Matching\n",
    "\n",
    "First, let's use Jupyter Lab, a more up to date version of Jupyter Notebooks, for this demo.\n",
    "\n",
    "We open a terminal shell. Make a new directory for \"Pattern-Matching\". Pattern Matching requires Python v 3.10 or better, so let's make sure `uv` is using a modern enough Python for us. Remember with `uv` we can just tell it what version of Python we need and `uv` will take care of installing whatever Python or packages we need.\n",
    "```\n",
    "$ pwd # What folder are we in?\n",
    "/home/peter/projects/hacker-dojo-python-group/PatternMatching\n",
    "\n",
    "$ ls -a # Do we have a .venv and a pyproject.toml?\n",
    "\n",
    "$ # No there isn't. uv will look for a .venv in a parent directory.\n",
    "$ uv run python -c \"import os,sys; print(os.environ.get('VIRTUAL_ENV') or sys.prefix)\"` # Which .venv is uv using? \n",
    "/home/peter/projects/hacker-dojo-python-group/.venv\n",
    "\n",
    "$ uv run which python; uv run python --version  # show what Python uv is using\n",
    "/home/peter/projects/hacker-dojo-python-group/.venv/bin/python\n",
    "Python 3.13.2\n",
    "\n",
    "$ # Python 3.13 is good enough for us. We are going to install jupyterlab. We are ok installing it in the shared hacker-dojo projects .venv.\n",
    "$ uv run python -m jupyterlab # Start Juptyer Lab notebook to open THIS notebook we are looking at.\n",
    "\n",
    "$ # If we wanted to separate Pattern-Matching from the rest of the hacker-dojo demos, we could create our own .venv here in this directory: uv init --bare; uv venv; uv add jupyterlab\n",
    "```"
   ]
  },
  {
   "cell_type": "markdown",
   "id": "b3d05b60-be84-4cbe-95c7-6f5ed81e7e31",
   "metadata": {},
   "source": [
    "## Python Pattern Matching\n",
    "\n",
    "Pattern Matching is a relatively new (Python 3.10) feature that gives us \"switch/case\" and \"structural pattern matching\""
   ]
  },
  {
   "cell_type": "code",
   "execution_count": 4,
   "id": "6fbc91e0-c5b1-47a1-9256-eae1e8420d50",
   "metadata": {},
   "outputs": [
    {
     "name": "stdout",
     "output_type": "stream",
     "text": [
      "pushing\n"
     ]
    }
   ],
   "source": [
    "import argparse\n",
    "import shlex\n",
    "\n",
    "def main( args_string:str=None):\n",
    "    parser = argparse.ArgumentParser()\n",
    "    parser.add_argument('command', choices=['push', 'pull', 'commit'])\n",
    "    if args_string:\n",
    "        args = parser.parse_args(shlex.split(args_string))\n",
    "    else:\n",
    "        args = parser.parse_args() # parse command line ARGV\n",
    "\n",
    "    match args.command:\n",
    "        case 'push':\n",
    "            print('pushing')\n",
    "        case 'pull':\n",
    "            print('pulling')\n",
    "        case _:\n",
    "            parser.error(f'{args.command!r} not yet implemented')\n",
    "\n",
    "main(\"push\")\n",
    "   "
   ]
  },
  {
   "cell_type": "markdown",
   "id": "7b22df16-8051-486d-90d2-c6841353320b",
   "metadata": {},
   "source": [
    "Note: Python still allows the name \"match\" and \"case\" for variable names. They are only special keywords in this syntax.\n",
    "\n",
    "## The case patterns don’t just have to be literals. The patterns can also:  \n",
    "\n",
    "- Use variable names that are set if a case matches  \n",
    "- Match sequences using list or tuple syntax (like Python’s existing iterable unpacking feature)  \n",
    "- Match mappings using dict syntax  \n",
    "- Use * to match the rest of a list  \n",
    "- Use ** to match other keys in a dict  \n",
    "- Match objects and their attributes using class syntax  \n",
    "- Include “or” patterns with |  \n",
    "- Capture sub-patterns with as  \n",
    "- Include an if “guard” clause  "
   ]
  },
  {
   "cell_type": "code",
   "execution_count": 6,
   "id": "e1df116d-0eb9-48f2-99aa-bd0b053cc9e1",
   "metadata": {},
   "outputs": [],
   "source": [
    "# Let's make a function that uses all of those features:\n",
    "\n",
    "def match_demo( expr):\n",
    "    match expr:\n",
    "        case (0, x):              # seq of 2 elems with first 0\n",
    "            print(f'(0, {x}); found {x}')    # (new variable x set to second elem)\n",
    "        case ['a', x, 'c']:       # seq of 3 elems: 'a', anything, 'c'\n",
    "            print(f\"'a', {x!r}, 'c'; found{x!r}\")\n",
    "        case {'foo': bar}:        # dict with key 'foo' (may have others)\n",
    "            print(f\"{{'foo': {bar}}} found {bar}\")\n",
    "        case [1, 2, *rest]:       # seq of: 1, 2, ... other elements\n",
    "            print(f'[1, 2, star{rest}] found {rest}')\n",
    "        case {'x': x, **kw}:      # dict with key 'x' (others go to kw)\n",
    "            print(f\"{{'x': {x}, double-star{kw}}} found {x} and {kw}\")\n",
    "        case Car(key=key, name='Tesla'):  # Car with name 'Tesla' (any key)\n",
    "            print(f\"Car({key!r}, 'TESLA!')\")\n",
    "        case Car(key, name):      # similar to above, but use __match_args__\n",
    "            print(f\"Car({key!r}, {name!r})\")\n",
    "        case 1 | 'one' | 'I':     # int 1 or str 'one' or 'I'\n",
    "            print('one')\n",
    "        case ['a'|'b' as ab, c]:  # seq of 2 elems with first 'a' or 'b'\n",
    "            print(f'{ab!r}, {c!r} found {c!r}')\n",
    "        case (x, y) if x == y:    # seq of 2 elems with first equal to second\n",
    "            print(f'({x}, {y}) with x==y')\n",
    "        case _:\n",
    "            print('no match')\n",
    "\n",
    "# and a sample Class to show matching object attributes\n",
    "\n",
    "class Car:\n",
    "    __match_args__ = ('key', 'name')\n",
    "    def __init__(self, key, name):\n",
    "        self.key = key\n",
    "        self.name = name"
   ]
  },
  {
   "cell_type": "code",
   "execution_count": 7,
   "id": "60280239-ad4d-4045-bef8-a904220246ac",
   "metadata": {},
   "outputs": [
    {
     "name": "stdout",
     "output_type": "stream",
     "text": [
      "(0, treasure); found treasure\n"
     ]
    }
   ],
   "source": [
    "match_demo( (0, 'treasure') )"
   ]
  },
  {
   "cell_type": "code",
   "execution_count": 9,
   "id": "11500a30-b4e6-426b-8f78-ff582d799951",
   "metadata": {},
   "outputs": [
    {
     "name": "stdout",
     "output_type": "stream",
     "text": [
      "'a', 'treasure', 'c'; found'treasure'\n",
      "no match\n"
     ]
    }
   ],
   "source": [
    "match_demo( ('a', 'treasure', 'c') )\n",
    "match_demo( ('a', 'treasure', 'c', 'd') )"
   ]
  },
  {
   "cell_type": "code",
   "execution_count": 11,
   "id": "0706f26d-f568-4ec8-817c-ab5f8938a1cf",
   "metadata": {},
   "outputs": [
    {
     "name": "stdout",
     "output_type": "stream",
     "text": [
      "{'foo': treasure} found treasure\n",
      "no match\n"
     ]
    }
   ],
   "source": [
    "match_demo( {'foo':'treasure', 'other_key': 'other_value'} )\n",
    "match_demo( {'xxx':'treasure', 'other_key': 'other_value'} )"
   ]
  },
  {
   "cell_type": "code",
   "execution_count": 12,
   "id": "c0d6602a-219d-4681-9c64-3263d0f014ef",
   "metadata": {},
   "outputs": [
    {
     "name": "stdout",
     "output_type": "stream",
     "text": [
      "[1, 2, star['here', 'are', 'some', 'more', 'values']] found ['here', 'are', 'some', 'more', 'values']\n"
     ]
    }
   ],
   "source": [
    "match_demo( [1, 2, 'here', 'are', 'some', 'more', 'values'])"
   ]
  },
  {
   "cell_type": "code",
   "execution_count": 13,
   "id": "4afd6937-76d4-4442-b78b-177f4e7a095d",
   "metadata": {},
   "outputs": [
    {
     "name": "stdout",
     "output_type": "stream",
     "text": [
      "{'x': x-value, double-star{'y': 'y-value', 'z': 'z-value'}} found x-value and {'y': 'y-value', 'z': 'z-value'}\n"
     ]
    }
   ],
   "source": [
    "match_demo( {'x': 'x-value', 'y': 'y-value', 'z': 'z-value'} )"
   ]
  },
  {
   "cell_type": "code",
   "execution_count": 14,
   "id": "72f7af56-f595-4793-af2d-71ceb5f4f0f9",
   "metadata": {},
   "outputs": [
    {
     "name": "stdout",
     "output_type": "stream",
     "text": [
      "Car('ABCXYZ', 'TESLA!')\n"
     ]
    }
   ],
   "source": [
    "my_car = Car(key='ABCXYZ', name='Tesla')\n",
    "match_demo( my_car)"
   ]
  },
  {
   "cell_type": "code",
   "execution_count": 15,
   "id": "d9d3f01f-7880-4701-b839-e2ec47460786",
   "metadata": {},
   "outputs": [
    {
     "name": "stdout",
     "output_type": "stream",
     "text": [
      "Car('123456', 'Volkswagen')\n"
     ]
    }
   ],
   "source": [
    "my_other_car = Car(key=\"123456\", name=\"Volkswagen\")\n",
    "match_demo( my_other_car)"
   ]
  },
  {
   "cell_type": "code",
   "execution_count": 29,
   "id": "41505964-1651-4ed9-81c1-ea84144e4e85",
   "metadata": {},
   "outputs": [
    {
     "name": "stdout",
     "output_type": "stream",
     "text": [
      "one\n",
      "one\n",
      "one\n",
      "one\n",
      "no match\n",
      "no match\n",
      "one\n"
     ]
    }
   ],
   "source": [
    "match_demo( 1)\n",
    "match_demo( 'one')\n",
    "match_demo( 'I')\n",
    "match_demo( 1.0)\n",
    "match_demo( 'won')\n",
    "match_demo( 'i')\n",
    "match_demo( True)"
   ]
  },
  {
   "cell_type": "code",
   "execution_count": 17,
   "id": "a6f5abda-904a-4565-b49a-6e6668d1cb69",
   "metadata": {},
   "outputs": [
    {
     "name": "stdout",
     "output_type": "stream",
     "text": [
      "'a', 'zebra' found 'zebra'\n",
      "'b', 'zebra' found 'zebra'\n"
     ]
    }
   ],
   "source": [
    "match_demo( ('a', 'zebra'))\n",
    "match_demo( ('b', 'zebra'))"
   ]
  },
  {
   "cell_type": "code",
   "execution_count": 28,
   "id": "c65ee71a-5553-4ce6-a903-0d3517ca09c5",
   "metadata": {},
   "outputs": [
    {
     "name": "stdout",
     "output_type": "stream",
     "text": [
      "no match\n",
      "(99, 99) with x==y\n",
      "(same, same) with x==y\n",
      "([1, 2, 3], [1, 2, 3]) with x==y\n",
      "(({'a': 2, 'b': 3}, {'b', 'c', 'a', 'd'}, 1.2), ({'b': 3, 'a': 2}, {'c', 'b', 'a', 'd'}, 1.2)) with x==y\n"
     ]
    }
   ],
   "source": [
    "\n",
    "match_demo( [99, 99])\n",
    "match_demo( (\"same\", \"same\"))\n",
    "match_demo( ( [1,2,3], [1,2,3]))\n",
    "match_demo( [ ({'a':2,'b':3}, set(\"abcd\"), 1.2), ({'b':3,'a':2}, set(\"dacb\"), 1.2)])"
   ]
  },
  {
   "cell_type": "markdown",
   "id": "5974b88a-9241-4f61-90bc-b720d376c6c8",
   "metadata": {},
   "source": [
    "\n",
    "\n",
    "Using this as a nice syntax match/case to replace a bunch of if/elif/else is nice, but the real power comes from using it to handle more complex \"dispatching\" of multiple actions\n",
    "Here is an example of a text advanture game:"
   ]
  },
  {
   "cell_type": "code",
   "execution_count": 64,
   "id": "ed7a511a-533c-4c31-ab8e-282ed58a5766",
   "metadata": {},
   "outputs": [],
   "source": [
    "def game_loop():\n",
    "    command = input(\"What are you doing next? \")\n",
    "    match command.split():\n",
    "        case [\"quit\"]:\n",
    "            print(\"Goodbye!\")\n",
    "            quit_game()\n",
    "        case [\"look\"]:\n",
    "            current_room.describe()\n",
    "        case [\"get\", obj]:\n",
    "            character.get(obj, current_room)\n",
    "        case [\"drop\", *objects]:\n",
    "            for obj in objects:\n",
    "                character.drop(obj, current_room)\n",
    "        case [\"go\", direction] if direction in current_room.exits:\n",
    "            current_room = current_room.neighbor(direction)\n",
    "        case [\"go\", _]:\n",
    "            print(\"Sorry, you can't go that way\")\n",
    "        case _:\n",
    "            print(f\"Sorry, I couldn't understand {command!r}\")"
   ]
  },
  {
   "cell_type": "markdown",
   "id": "87eb8276-8dd5-4b71-b91b-b1f4fa96473a",
   "metadata": {},
   "source": [
    "Or another example from a video-game, where you have events of different classes such as KeyPress and mouse Click objects. These pattern matches replace a lot of if conditions."
   ]
  },
  {
   "cell_type": "code",
   "execution_count": null,
   "id": "faffb016-d873-4244-ba8a-188d84cc8992",
   "metadata": {},
   "outputs": [],
   "source": [
    "match event.get():\n",
    "    case Click((x, y), button=Button.LEFT):  # This is a left click\n",
    "        handle_click_at(x, y)\n",
    "    case Click():\n",
    "        pass  # ignore other clicks\n",
    "    case KeyPress(key_name=\"Q\") | Quit():\n",
    "        game.quit()\n",
    "    case KeyPress(key_name=\"up arrow\"):\n",
    "        game.go_north()\n",
    "    ...\n",
    "    case KeyPress():\n",
    "        pass # Ignore other keystrokes\n",
    "    case other_event:\n",
    "        raise ValueError(f\"Unrecognized event: {other_event}\")"
   ]
  },
  {
   "cell_type": "markdown",
   "id": "5631095d-8a8e-4858-af9c-268f8cbcae8d",
   "metadata": {},
   "source": [
    "Cool example using it to pattern match deep inside JSON:"
   ]
  },
  {
   "cell_type": "code",
   "execution_count": 67,
   "id": "075536ce-4397-42ab-8e23-5cce5d02caf7",
   "metadata": {},
   "outputs": [
    {
     "name": "stdout",
     "output_type": "stream",
     "text": [
      "Key pressed: Escape\n",
      "Mouse cursor: x=1280, y=640\n"
     ]
    }
   ],
   "source": [
    "import json\n",
    "\n",
    "def log(event):\n",
    "    match json.loads(event):\n",
    "        case {\"keyboard\": {\"key\": {\"code\": code}}}:\n",
    "            print(f\"Key pressed: {code}\")\n",
    "        case {\"mouse\": {\"cursor\": {\"screen\": [x, y]}}}:\n",
    "            print(f\"Mouse cursor: {x=}, {y=}\")\n",
    "        case _:\n",
    "            print(\"Unknown event type\")\n",
    "\n",
    "log( json.dumps( {'keyboard':{'key':{'code': \"Escape\"}}}))\n",
    "log( json.dumps( {'mouse':{'cursor':{'screen':[1280,640]}}}))"
   ]
  },
  {
   "cell_type": "markdown",
   "id": "601c1c9e-a85b-4fc6-af5b-81821694953b",
   "metadata": {},
   "source": [
    "### Caution!  \n",
    "Variables names in case expressions are used to bind found values to the variable. Anywhere else in a Python program a variable name will be substituted with its value.\n",
    "```\n",
    "case: ( 'pixel', x)\n",
    "```\n",
    "Will NOT match the value of `x`, it will set `x` to the second value found after the first value `pixel`. This is different from using a variable name anywhere else.  \n",
    "  \n",
    "Q: So how do you match a constant in a variable, like if you had the constants RED=(255,0,0) BLUE=(0,0,255) GREEN=(0,255,0)?\n",
    "```\n",
    "case ('pixel', RED)\n",
    "```\n",
    "Will NOT work, it would set the variable RED to the found value after 'pixel'.\n",
    "```\n",
    "case ('pixel', Color.RED)\n",
    "```\n",
    "This will work. If the variable is a fully qualified name with a DOT in it, it will use the value for matching.    \n",
    "Think of `case` patterns more like function declarations than expressions. You are listing literals and names, not giving expressions."
   ]
  },
  {
   "cell_type": "markdown",
   "id": "cc05eee7-f5b9-40c8-8e41-aff3c9690214",
   "metadata": {
    "jp-MarkdownHeadingCollapsed": true
   },
   "source": [
    "## Resources:\n",
    "[PEP 634](https://www.python.org/dev/peps/pep-0634/): the specification  \n",
    "[PEP 635](https://www.python.org/dev/peps/pep-0635/): motivation and rationale  \n",
    "[PEP 636](https://www.python.org/dev/peps/pep-0636/): a tutorial for the feature  "
   ]
  },
  {
   "cell_type": "code",
   "execution_count": null,
   "id": "1d5e79d4-959d-498d-8cc1-0a2328327558",
   "metadata": {},
   "outputs": [],
   "source": []
  }
 ],
 "metadata": {
  "kernelspec": {
   "display_name": "Python 3 (ipykernel)",
   "language": "python",
   "name": "python3"
  },
  "language_info": {
   "codemirror_mode": {
    "name": "ipython",
    "version": 3
   },
   "file_extension": ".py",
   "mimetype": "text/x-python",
   "name": "python",
   "nbconvert_exporter": "python",
   "pygments_lexer": "ipython3",
   "version": "3.13.0"
  }
 },
 "nbformat": 4,
 "nbformat_minor": 5
}
