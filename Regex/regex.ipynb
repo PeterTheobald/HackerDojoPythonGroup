{
 "cells": [
  {
   "cell_type": "markdown",
   "id": "15f07100",
   "metadata": {},
   "source": [
    "\n",
    "# Python Regular Expressions\n",
    "\n",
    "- Core regex syntax (literals, special chars, classes, quantifiers, anchors)\n",
    "- Use grouping, named groups, backreferences\n",
    "- Apply lookarounds\n",
    "- Using regex with Python's `re` module: `search`, `findall`, `sub`, `split`, `finditer`\n",
    "- Solve practical tasks (emails, phones, logs)\n"
   ]
  },
  {
   "cell_type": "markdown",
   "id": "990dbd55",
   "metadata": {},
   "source": [
    "\n",
    "## Regex is a pattern language for matching/searching text.  \n",
    "Use the `re` module\n",
    "\n",
    "https://cdn.prod.website-files.com/62c6fbddb12bb54622241c3d/62c6fbddb12bb5cf6e24225a_regex.png\n"
   ]
  },
  {
   "cell_type": "code",
   "execution_count": 7,
   "id": "366dc1b5",
   "metadata": {},
   "outputs": [
    {
     "name": "stdout",
     "output_type": "stream",
     "text": [
      "Looking for \"Nowhere\" in \"I think Python is fun\": None\n",
      "Looking for \"Python\" in \"I think Python is fun\": <re.Match object; span=(8, 14), match='Python'>\n"
     ]
    }
   ],
   "source": [
    "\n",
    "import re\n",
    "text = \"I think Python is fun\"\n",
    "match = re.search('Nowhere', text) # \"regex match\" object\n",
    "print(f'Looking for \"Nowhere\" in \"{text}\": {match}')\n",
    "\n",
    "match = re.search('Python', text) # \"regex match\" object\n",
    "print(f'Looking for \"Python\" in \"{text}\": {match}')\n"
   ]
  },
  {
   "cell_type": "markdown",
   "id": "c7f0168c-8555-4da1-8365-01b79fb83c1d",
   "metadata": {},
   "source": [
    "---\n",
    "What information can I get about a match object?"
   ]
  },
  {
   "cell_type": "code",
   "execution_count": 8,
   "id": "f2d8f99e-03b0-465d-9283-886492c0b23b",
   "metadata": {},
   "outputs": [
    {
     "name": "stdout",
     "output_type": "stream",
     "text": [
      "Python\n",
      "8 14 (8, 14)\n"
     ]
    }
   ],
   "source": [
    "print(match.group()) # the part that matched my pattern\n",
    "print(match.start(), match.end(), match.span()) # where it matched"
   ]
  },
  {
   "cell_type": "markdown",
   "id": "4674688d-538a-4232-8d70-d03f285bbe20",
   "metadata": {},
   "source": [
    "---\n",
    "What if we don't need complicated regex and just want to search a string for a substring?"
   ]
  },
  {
   "cell_type": "code",
   "execution_count": null,
   "id": "30545864-8eda-4a1f-abac-f320c19b7f43",
   "metadata": {},
   "outputs": [],
   "source": [
    "text = \"scatter\"\n",
    "substring = \"cat\"\n",
    "if substring in text:\n",
    "    print(f'Found \"{substring}\" in \"{text}\"')\n",
    "print(f'Find \"{substring}\" in \"{text}\" with str.find(): ', text.find(substring) ) # Index of first occurrence, -1 if not found\n",
    "print(f'Find \"{substring}\" in \"{text}\" with str.index(): ', text.index(substring) ) # Like find but raises ValueError if not found\n",
    "print(f'Count \"{substring}\" in \"{text}\" with str.count(): ', text.count(substring) ) # Number of occurrences\n",
    "print(\"scatter\".startswith(\"sca\"))  # True\n",
    "print(\"scatter\".endswith(\"ter\"))    # True"
   ]
  },
  {
   "cell_type": "markdown",
   "id": "b75fb4a2",
   "metadata": {},
   "source": [
    "### Regex syntax, special characters:  \n",
    "**Special characters:** `. ^ $ * + ? { } [ ] \\ | ( )`    \n",
    "```\n",
    " . (any character but newline)  \n",
    " ^ (the start of a line)  \n",
    " $ (the end of a line)  \n",
    " * (zero or more of something)  \n",
    " + (one or more of something)  \n",
    " ? (zero or one of something, ie: optional)  \n",
    " {n} (matches exactly n of something)  \n",
    "     Note: {0,} is the same as *  \n",
    "     {1,} is the same as +  \n",
    "     {0,1} is the same as ?  \n",
    " | (the pattern on the left or the pattern on the right)  \n",
    "```\n",
    "**Special backslash escapes:** ` \\w \\s \\d ` etc.  \n",
    "**Raw strings**: Regex uses backslash to indicate special patterns like `\\w` = word characters, `\\s` = white-space, `\\d` = digits, `\\b` = word boundary. But strings already use backslash to mean special characters, for example `\\b` = backspace and you can't use backslashes to mean just backslashes in normal strings because they are special. You'd have to escape them with double-backslashes like this `\\\\b`.    \n",
    "Because of this it is recommended to use the special `r\"strings\"` (raw strings, or regex strings) for regex patterns.   \n",
    "So a phone number could be `r\"\\d\\d\\d-\\d\\d\\d\\d\"` or could be `r\"\\d{3}-\\d{4}\"`.  \n",
    "\n"
   ]
  },
  {
   "cell_type": "code",
   "execution_count": null,
   "id": "7badbb93",
   "metadata": {},
   "outputs": [],
   "source": [
    "\n",
    "# Dot matches any character except newline\n",
    "m=re.search(r\"P.thon\", \"Python\")\n",
    "print(f'found \"{m.group()}\" at {m.span()} in \"{m.string}\"')\n",
    "\n",
    "# Escape special characters (here, a dollar sign)\n",
    "# $ is a special regex character. To indicate just a regular `$` backslash escape it:\n",
    "m=re.search(r\"\\$\", \"Price: $100\")\n",
    "print(f'found \"{m.group()}\" at {m.span()} in \"{m.string}\"')\n"
   ]
  },
  {
   "cell_type": "markdown",
   "id": "b5adbf7a",
   "metadata": {},
   "source": [
    "### Character Classes & Ranges\n",
    "`[abc]`, `[^abc]`, `[a-z]`, `[0-9]`  \n",
    "Predefined:  \n",
    "`\\d` (a digit), `\\D` (anything except a digit),  \n",
    "`\\w` (a word character), `\\W` (anything except a word character),  \n",
    "`\\s` (a whitespace character), `\\S` (anything except a whitespace character)\n"
   ]
  },
  {
   "cell_type": "code",
   "execution_count": 11,
   "id": "16093e0b",
   "metadata": {},
   "outputs": [
    {
     "name": "stdout",
     "output_type": "stream",
     "text": [
      "['123', '456']\n"
     ]
    }
   ],
   "source": [
    "\n",
    "l=re.findall(r\"\\d+\", \"Order 123, item 456\")\n",
    "print(l)\n"
   ]
  },
  {
   "cell_type": "markdown",
   "id": "79e44107",
   "metadata": {},
   "source": [
    "\n",
    "Extract all digits from `\"abc123def456\"` using `re.findall`.\n"
   ]
  },
  {
   "cell_type": "code",
   "execution_count": 14,
   "id": "1a0d2e2f",
   "metadata": {},
   "outputs": [
    {
     "name": "stdout",
     "output_type": "stream",
     "text": [
      "['123', '456']\n"
     ]
    }
   ],
   "source": [
    "\n",
    "s = \"abc123def456\"\n",
    "l=re.findall(r\"\\d+\", s)\n",
    "print(l)\n"
   ]
  },
  {
   "cell_type": "markdown",
   "id": "d1889299",
   "metadata": {},
   "source": [
    "### Quantifiers and counting\n",
    "\n",
    "`*` (0+), `+` (1+), `?` (0/1), `{n}`, `{n,}`, `{n,m}`  \n",
    "Greedy vs lazy: `.*` vs `.*?`\n"
   ]
  },
  {
   "cell_type": "code",
   "execution_count": 19,
   "id": "e81fa26a",
   "metadata": {},
   "outputs": [
    {
     "name": "stdout",
     "output_type": "stream",
     "text": [
      "['aaa']\n",
      "['<tag>text</tag>']\n",
      "['<tag>', '</tag>']\n"
     ]
    }
   ],
   "source": [
    "\n",
    "l=re.findall(r\"a+\", \"caaandy\")\n",
    "print(l)\n",
    "l=re.findall(r\"<.*>\", \"<tag>text</tag>\")      # Greedy\n",
    "print(l)\n",
    "l=re.findall(r\"<.*?>\", \"<tag>text</tag>\")    # Lazy\n",
    "print(l)\n"
   ]
  },
  {
   "cell_type": "markdown",
   "id": "3d1ee6a4",
   "metadata": {},
   "source": [
    "### Anchors & Boundaries\n",
    "\n",
    "`^` start, `$` end, `\\b` word boundary, `\\B` non-boundary\n"
   ]
  },
  {
   "cell_type": "code",
   "execution_count": 25,
   "id": "7e718434",
   "metadata": {},
   "outputs": [
    {
     "name": "stdout",
     "output_type": "stream",
     "text": [
      "found \"Hello\" at (0, 5) in \"Hello world\"\n",
      "['cat']\n"
     ]
    }
   ],
   "source": [
    "\n",
    "m=re.search(r\"^Hello\", \"Hello world\")\n",
    "if m:\n",
    "    print(f'found \"{m.group()}\" at {m.span()} in \"{m.string}\"')\n",
    "    \n",
    "m=re.search(r\"^Hello\", \"World of Hello\")\n",
    "if m:\n",
    "    print(f'found \"{m.group()}\" at {m.span()} in \"{m.string}\"')\n",
    "    \n",
    "l=re.findall(r\"\\bcat\\b\", \"cat, scatter concatenate\")\n",
    "print(l)\n"
   ]
  },
  {
   "cell_type": "markdown",
   "id": "d251c4e7",
   "metadata": {},
   "source": [
    "### Grouping & Capturing\n",
    "\n",
    "- Capture: `( ... )`\n",
    "- Non-capturing: `(?: ... )`\n",
    "- Named: `(?P<name> ... )`\n",
    "- Backreferences: `\\1`, `(?P=name)`\n"
   ]
  },
  {
   "cell_type": "code",
   "execution_count": 26,
   "id": "32b493ee",
   "metadata": {},
   "outputs": [
    {
     "name": "stdout",
     "output_type": "stream",
     "text": [
      "('2025', '08', '12')\n",
      "2025-08-12\n",
      "2025\n",
      "08\n"
     ]
    }
   ],
   "source": [
    "\n",
    "m = re.search(r\"(\\d{4})-(\\d{2})-(\\d{2})\", \"2025-08-12\")\n",
    "print(m.groups())\n",
    "print(m.group(0))\n",
    "print(m.group(1))\n",
    "print(m.group(2))\n"
   ]
  },
  {
   "cell_type": "code",
   "execution_count": 32,
   "id": "381b3a88-cd79-4782-a28a-78da2e45f6ff",
   "metadata": {},
   "outputs": [
    {
     "name": "stdout",
     "output_type": "stream",
     "text": [
      "2025\n",
      "('div', ' some <div> stuff ')\n"
     ]
    }
   ],
   "source": [
    "m2 = re.search(r\"(?P<year>\\d{4})-(?P<month>\\d{2})\", \"2025-08-12\")\n",
    "print(m2.group(\"year\"))\n",
    "\n",
    "m=re.search(r\"<(.*?)>(.*?)</\\1>\", \"sample <div> some <div> stuff </div> stuff </div>\")\n",
    "if m:\n",
    "    print( m.groups())\n",
    "\n",
    "# re.sub(r\"(\\w+) \\1\", r\"\\1\", \"bye bye\")  # backreference collapse"
   ]
  },
  {
   "cell_type": "markdown",
   "id": "97619437",
   "metadata": {},
   "source": [
    "\n",
    "### Lookarounds\n",
    "- Positive lookahead `(?=...)` / Negative `(?!...)`\n",
    "- Positive lookbehind `(?<=...)` / Negative `(?<!...)`\n"
   ]
  },
  {
   "cell_type": "code",
   "execution_count": 37,
   "id": "ff911be7",
   "metadata": {},
   "outputs": [
    {
     "name": "stdout",
     "output_type": "stream",
     "text": [
      "['cat']\n",
      "('s',)\n",
      "['100']\n"
     ]
    }
   ],
   "source": [
    "\n",
    "# 'cat' only if followed by 's'\n",
    "print(re.findall(r\"cat(?=s)\", \"cats cat scatter\"))\n",
    "m=re.search(r\"cat(?=s)(.*?) \", \"cats cat scatter\")\n",
    "print(m.groups())\n",
    "# digits only if preceded by '$'\n",
    "print(re.findall(r\"(?<=\\$)\\d+\", \"Cost: $100, €200\"))\n"
   ]
  },
  {
   "cell_type": "markdown",
   "id": "31c8b520",
   "metadata": {},
   "source": [
    "\n",
    "**Exercise:** Match the word `error` only if **not** followed by a colon (negative lookahead).\n"
   ]
  },
  {
   "cell_type": "code",
   "execution_count": null,
   "id": "86104296",
   "metadata": {},
   "outputs": [],
   "source": [
    "\n",
    "log = \"error: missing file\\nerror found\\nwarning: low disk\"\n",
    "# Expected to match only the 'error' in the second line\n",
    "re.findall(r\"error(?!:)\", log)\n"
   ]
  },
  {
   "cell_type": "markdown",
   "id": "830c386a",
   "metadata": {},
   "source": [
    "\n",
    "### Python `re` Module Functions\n",
    "- `match`, `search`, `findall`, `finditer`\n",
    "- `sub`, `split`\n",
    "- Flags: `re.IGNORECASE`, `re.MULTILINE`, `re.DOTALL`\n"
   ]
  },
  {
   "cell_type": "code",
   "execution_count": 43,
   "id": "85e3dd17",
   "metadata": {},
   "outputs": [
    {
     "name": "stdout",
     "output_type": "stream",
     "text": [
      "Python-is-fun\n",
      "['peter', '', 'joe', '', '', 'sam', 'sally']\n"
     ]
    }
   ],
   "source": [
    "\n",
    "re.findall(r\"\\w+\", \"Python is fun\")\n",
    "s=re.sub(r\"\\s+\", \"-\", \"Python     is fun\")\n",
    "print(s)\n",
    "pattern = re.compile(r\"^python\", re.IGNORECASE)\n",
    "bool(pattern.match(\"Python\"))\n",
    "\n",
    "print( re.split(r\"[, ;]\", \"peter, joe ; sam,sally\"))"
   ]
  },
  {
   "cell_type": "markdown",
   "id": "15a0b2b3",
   "metadata": {},
   "source": [
    "\n",
    "### Practical Exercises\n",
    "### Validate email\n"
   ]
  },
  {
   "cell_type": "code",
   "execution_count": 44,
   "id": "6014b62d",
   "metadata": {},
   "outputs": [
    {
     "data": {
      "text/plain": [
       "[True, False, False]"
      ]
     },
     "execution_count": 44,
     "metadata": {},
     "output_type": "execute_result"
    }
   ],
   "source": [
    "\n",
    "email_pat = r\"[a-zA-Z0-9_.+-]+@[a-zA-Z0-9-]+\\.[a-zA-Z0-9-.]+\"\n",
    "tests = [\"good.email+tag@example.com\", \"bad@@example\", \"no-at-symbol.com\"]\n",
    "[bool(re.fullmatch(email_pat, t)) for t in tests]\n"
   ]
  },
  {
   "cell_type": "markdown",
   "id": "586897c5",
   "metadata": {},
   "source": [
    "\n",
    "### Validate phone (simple, flexible)\n"
   ]
  },
  {
   "cell_type": "code",
   "execution_count": null,
   "id": "be0903cf",
   "metadata": {},
   "outputs": [],
   "source": [
    "\n",
    "phone_pat = r\"\\+?\\d{1,3}[- ]?\\d{3}[- ]?\\d{3,4}\"\n",
    "tests = [\"+1 555 1234\", \"555-123-4567\", \"12-34\"]\n",
    "[bool(re.fullmatch(phone_pat, t)) for t in tests]\n"
   ]
  },
  {
   "cell_type": "markdown",
   "id": "41fcc4bc",
   "metadata": {},
   "source": [
    "\n",
    "### Parse logs: extract timestamps\n",
    "Example line: `[2025-08-12 10:23:45] INFO: Server started`\n"
   ]
  },
  {
   "cell_type": "code",
   "execution_count": 45,
   "id": "7d62d6ad",
   "metadata": {},
   "outputs": [
    {
     "data": {
      "text/plain": [
       "['2025-08-12 10:23:45']"
      ]
     },
     "execution_count": 45,
     "metadata": {},
     "output_type": "execute_result"
    }
   ],
   "source": [
    "\n",
    "log_line = \"[2025-08-12 10:23:45] INFO: Server started\"\n",
    "ts_pat = r\"\\[(\\d{4}-\\d{2}-\\d{2} \\d{2}:\\d{2}:\\d{2})\\]\"\n",
    "re.findall(ts_pat, log_line)\n"
   ]
  },
  {
   "cell_type": "markdown",
   "id": "af9b10e0",
   "metadata": {},
   "source": [
    "\n",
    "### **Resources**\n",
    "- Python `re` docs: https://docs.python.org/3/library/re.html\n",
    "- Interactive tester: https://regex101.com\n",
    "\n",
    "- Regex crossword puzzles https://regexcrossword.com/\n",
    "- Regex game https://thinkwithgames.itch.io/regex-adventure\n",
    "- Incredibly hard MIT Regex crossword https://puzzles.mit.edu/2013/coinheist.com/rubik/a_regular_crossword/grid.pdf\n",
    "- \n"
   ]
  },
  {
   "cell_type": "code",
   "execution_count": 48,
   "id": "4be19c0c-79d7-415f-a8e2-ef0ada24fa56",
   "metadata": {},
   "outputs": [
    {
     "name": "stdout",
     "output_type": "stream",
     "text": [
      "['this', 'is a string,with different ways to . split']\n"
     ]
    }
   ],
   "source": [
    "s=\"this, is a string,with different ways to . split\"\n",
    "print(s.split( \", \"))\n",
    "\n",
    " <([^>]*>)   <(.*)>\n",
    "\n"
   ]
  }
 ],
 "metadata": {
  "kernelspec": {
   "display_name": "Python 3 (ipykernel)",
   "language": "python",
   "name": "python3"
  },
  "language_info": {
   "codemirror_mode": {
    "name": "ipython",
    "version": 3
   },
   "file_extension": ".py",
   "mimetype": "text/x-python",
   "name": "python",
   "nbconvert_exporter": "python",
   "pygments_lexer": "ipython3",
   "version": "3.13.0"
  }
 },
 "nbformat": 4,
 "nbformat_minor": 5
}
